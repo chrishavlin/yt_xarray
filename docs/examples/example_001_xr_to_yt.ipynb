{
 "cells": [
  {
   "cell_type": "markdown",
   "id": "9abc7ae0-1bba-47d8-a1df-17386def470c",
   "metadata": {},
   "source": [
    "## Loading data with yt_xarray \n",
    "\n",
    "This notebook demonstrates how to initialize a yt dataset object from an open xarray dataset.\n",
    "\n",
    "After describing the sample data that is used, the notebook covers:\n",
    "\n",
    "* [Loading all fields](#Loading-all-fields)\n",
    "* [Overview of yt datasets](#A-brief-overview-of-yt-datasets)\n",
    "* [Loading a subset of fields](#Loading-a-subset-of-fields)\n",
    "* [Loading method and memory usage](#Loading-method-and-memory-usage)\n",
    "\n",
    "\n",
    "### sample data\n",
    "\n",
    "We'll be using some random sample data in this notebook (as well as many of the others), generated from a convenience function, `yt_xarray.sample_data.load_random_xr_data()`. To use it, we have to supply two dictionaries: one containing fieldnames mapped to the dimension names and a second containing the starting value, end value and number of elements for each dimension:\n",
    "\n",
    "\n"
   ]
  },
  {
   "cell_type": "code",
   "execution_count": 1,
   "id": "9b750bb0-f68d-4765-8860-caeb37f1b2f2",
   "metadata": {},
   "outputs": [
    {
     "data": {
      "text/html": [
       "<div><svg style=\"position: absolute; width: 0; height: 0; overflow: hidden\">\n",
       "<defs>\n",
       "<symbol id=\"icon-database\" viewBox=\"0 0 32 32\">\n",
       "<path d=\"M16 0c-8.837 0-16 2.239-16 5v4c0 2.761 7.163 5 16 5s16-2.239 16-5v-4c0-2.761-7.163-5-16-5z\"></path>\n",
       "<path d=\"M16 17c-8.837 0-16-2.239-16-5v6c0 2.761 7.163 5 16 5s16-2.239 16-5v-6c0 2.761-7.163 5-16 5z\"></path>\n",
       "<path d=\"M16 26c-8.837 0-16-2.239-16-5v6c0 2.761 7.163 5 16 5s16-2.239 16-5v-6c0 2.761-7.163 5-16 5z\"></path>\n",
       "</symbol>\n",
       "<symbol id=\"icon-file-text2\" viewBox=\"0 0 32 32\">\n",
       "<path d=\"M28.681 7.159c-0.694-0.947-1.662-2.053-2.724-3.116s-2.169-2.030-3.116-2.724c-1.612-1.182-2.393-1.319-2.841-1.319h-15.5c-1.378 0-2.5 1.121-2.5 2.5v27c0 1.378 1.122 2.5 2.5 2.5h23c1.378 0 2.5-1.122 2.5-2.5v-19.5c0-0.448-0.137-1.23-1.319-2.841zM24.543 5.457c0.959 0.959 1.712 1.825 2.268 2.543h-4.811v-4.811c0.718 0.556 1.584 1.309 2.543 2.268zM28 29.5c0 0.271-0.229 0.5-0.5 0.5h-23c-0.271 0-0.5-0.229-0.5-0.5v-27c0-0.271 0.229-0.5 0.5-0.5 0 0 15.499-0 15.5 0v7c0 0.552 0.448 1 1 1h7v19.5z\"></path>\n",
       "<path d=\"M23 26h-14c-0.552 0-1-0.448-1-1s0.448-1 1-1h14c0.552 0 1 0.448 1 1s-0.448 1-1 1z\"></path>\n",
       "<path d=\"M23 22h-14c-0.552 0-1-0.448-1-1s0.448-1 1-1h14c0.552 0 1 0.448 1 1s-0.448 1-1 1z\"></path>\n",
       "<path d=\"M23 18h-14c-0.552 0-1-0.448-1-1s0.448-1 1-1h14c0.552 0 1 0.448 1 1s-0.448 1-1 1z\"></path>\n",
       "</symbol>\n",
       "</defs>\n",
       "</svg>\n",
       "<style>/* CSS stylesheet for displaying xarray objects in jupyterlab.\n",
       " *\n",
       " */\n",
       "\n",
       ":root {\n",
       "  --xr-font-color0: var(--jp-content-font-color0, rgba(0, 0, 0, 1));\n",
       "  --xr-font-color2: var(--jp-content-font-color2, rgba(0, 0, 0, 0.54));\n",
       "  --xr-font-color3: var(--jp-content-font-color3, rgba(0, 0, 0, 0.38));\n",
       "  --xr-border-color: var(--jp-border-color2, #e0e0e0);\n",
       "  --xr-disabled-color: var(--jp-layout-color3, #bdbdbd);\n",
       "  --xr-background-color: var(--jp-layout-color0, white);\n",
       "  --xr-background-color-row-even: var(--jp-layout-color1, white);\n",
       "  --xr-background-color-row-odd: var(--jp-layout-color2, #eeeeee);\n",
       "}\n",
       "\n",
       "html[theme=dark],\n",
       "body.vscode-dark {\n",
       "  --xr-font-color0: rgba(255, 255, 255, 1);\n",
       "  --xr-font-color2: rgba(255, 255, 255, 0.54);\n",
       "  --xr-font-color3: rgba(255, 255, 255, 0.38);\n",
       "  --xr-border-color: #1F1F1F;\n",
       "  --xr-disabled-color: #515151;\n",
       "  --xr-background-color: #111111;\n",
       "  --xr-background-color-row-even: #111111;\n",
       "  --xr-background-color-row-odd: #313131;\n",
       "}\n",
       "\n",
       ".xr-wrap {\n",
       "  display: block !important;\n",
       "  min-width: 300px;\n",
       "  max-width: 700px;\n",
       "}\n",
       "\n",
       ".xr-text-repr-fallback {\n",
       "  /* fallback to plain text repr when CSS is not injected (untrusted notebook) */\n",
       "  display: none;\n",
       "}\n",
       "\n",
       ".xr-header {\n",
       "  padding-top: 6px;\n",
       "  padding-bottom: 6px;\n",
       "  margin-bottom: 4px;\n",
       "  border-bottom: solid 1px var(--xr-border-color);\n",
       "}\n",
       "\n",
       ".xr-header > div,\n",
       ".xr-header > ul {\n",
       "  display: inline;\n",
       "  margin-top: 0;\n",
       "  margin-bottom: 0;\n",
       "}\n",
       "\n",
       ".xr-obj-type,\n",
       ".xr-array-name {\n",
       "  margin-left: 2px;\n",
       "  margin-right: 10px;\n",
       "}\n",
       "\n",
       ".xr-obj-type {\n",
       "  color: var(--xr-font-color2);\n",
       "}\n",
       "\n",
       ".xr-sections {\n",
       "  padding-left: 0 !important;\n",
       "  display: grid;\n",
       "  grid-template-columns: 150px auto auto 1fr 20px 20px;\n",
       "}\n",
       "\n",
       ".xr-section-item {\n",
       "  display: contents;\n",
       "}\n",
       "\n",
       ".xr-section-item input {\n",
       "  display: none;\n",
       "}\n",
       "\n",
       ".xr-section-item input + label {\n",
       "  color: var(--xr-disabled-color);\n",
       "}\n",
       "\n",
       ".xr-section-item input:enabled + label {\n",
       "  cursor: pointer;\n",
       "  color: var(--xr-font-color2);\n",
       "}\n",
       "\n",
       ".xr-section-item input:enabled + label:hover {\n",
       "  color: var(--xr-font-color0);\n",
       "}\n",
       "\n",
       ".xr-section-summary {\n",
       "  grid-column: 1;\n",
       "  color: var(--xr-font-color2);\n",
       "  font-weight: 500;\n",
       "}\n",
       "\n",
       ".xr-section-summary > span {\n",
       "  display: inline-block;\n",
       "  padding-left: 0.5em;\n",
       "}\n",
       "\n",
       ".xr-section-summary-in:disabled + label {\n",
       "  color: var(--xr-font-color2);\n",
       "}\n",
       "\n",
       ".xr-section-summary-in + label:before {\n",
       "  display: inline-block;\n",
       "  content: '►';\n",
       "  font-size: 11px;\n",
       "  width: 15px;\n",
       "  text-align: center;\n",
       "}\n",
       "\n",
       ".xr-section-summary-in:disabled + label:before {\n",
       "  color: var(--xr-disabled-color);\n",
       "}\n",
       "\n",
       ".xr-section-summary-in:checked + label:before {\n",
       "  content: '▼';\n",
       "}\n",
       "\n",
       ".xr-section-summary-in:checked + label > span {\n",
       "  display: none;\n",
       "}\n",
       "\n",
       ".xr-section-summary,\n",
       ".xr-section-inline-details {\n",
       "  padding-top: 4px;\n",
       "  padding-bottom: 4px;\n",
       "}\n",
       "\n",
       ".xr-section-inline-details {\n",
       "  grid-column: 2 / -1;\n",
       "}\n",
       "\n",
       ".xr-section-details {\n",
       "  display: none;\n",
       "  grid-column: 1 / -1;\n",
       "  margin-bottom: 5px;\n",
       "}\n",
       "\n",
       ".xr-section-summary-in:checked ~ .xr-section-details {\n",
       "  display: contents;\n",
       "}\n",
       "\n",
       ".xr-array-wrap {\n",
       "  grid-column: 1 / -1;\n",
       "  display: grid;\n",
       "  grid-template-columns: 20px auto;\n",
       "}\n",
       "\n",
       ".xr-array-wrap > label {\n",
       "  grid-column: 1;\n",
       "  vertical-align: top;\n",
       "}\n",
       "\n",
       ".xr-preview {\n",
       "  color: var(--xr-font-color3);\n",
       "}\n",
       "\n",
       ".xr-array-preview,\n",
       ".xr-array-data {\n",
       "  padding: 0 5px !important;\n",
       "  grid-column: 2;\n",
       "}\n",
       "\n",
       ".xr-array-data,\n",
       ".xr-array-in:checked ~ .xr-array-preview {\n",
       "  display: none;\n",
       "}\n",
       "\n",
       ".xr-array-in:checked ~ .xr-array-data,\n",
       ".xr-array-preview {\n",
       "  display: inline-block;\n",
       "}\n",
       "\n",
       ".xr-dim-list {\n",
       "  display: inline-block !important;\n",
       "  list-style: none;\n",
       "  padding: 0 !important;\n",
       "  margin: 0;\n",
       "}\n",
       "\n",
       ".xr-dim-list li {\n",
       "  display: inline-block;\n",
       "  padding: 0;\n",
       "  margin: 0;\n",
       "}\n",
       "\n",
       ".xr-dim-list:before {\n",
       "  content: '(';\n",
       "}\n",
       "\n",
       ".xr-dim-list:after {\n",
       "  content: ')';\n",
       "}\n",
       "\n",
       ".xr-dim-list li:not(:last-child):after {\n",
       "  content: ',';\n",
       "  padding-right: 5px;\n",
       "}\n",
       "\n",
       ".xr-has-index {\n",
       "  font-weight: bold;\n",
       "}\n",
       "\n",
       ".xr-var-list,\n",
       ".xr-var-item {\n",
       "  display: contents;\n",
       "}\n",
       "\n",
       ".xr-var-item > div,\n",
       ".xr-var-item label,\n",
       ".xr-var-item > .xr-var-name span {\n",
       "  background-color: var(--xr-background-color-row-even);\n",
       "  margin-bottom: 0;\n",
       "}\n",
       "\n",
       ".xr-var-item > .xr-var-name:hover span {\n",
       "  padding-right: 5px;\n",
       "}\n",
       "\n",
       ".xr-var-list > li:nth-child(odd) > div,\n",
       ".xr-var-list > li:nth-child(odd) > label,\n",
       ".xr-var-list > li:nth-child(odd) > .xr-var-name span {\n",
       "  background-color: var(--xr-background-color-row-odd);\n",
       "}\n",
       "\n",
       ".xr-var-name {\n",
       "  grid-column: 1;\n",
       "}\n",
       "\n",
       ".xr-var-dims {\n",
       "  grid-column: 2;\n",
       "}\n",
       "\n",
       ".xr-var-dtype {\n",
       "  grid-column: 3;\n",
       "  text-align: right;\n",
       "  color: var(--xr-font-color2);\n",
       "}\n",
       "\n",
       ".xr-var-preview {\n",
       "  grid-column: 4;\n",
       "}\n",
       "\n",
       ".xr-var-name,\n",
       ".xr-var-dims,\n",
       ".xr-var-dtype,\n",
       ".xr-preview,\n",
       ".xr-attrs dt {\n",
       "  white-space: nowrap;\n",
       "  overflow: hidden;\n",
       "  text-overflow: ellipsis;\n",
       "  padding-right: 10px;\n",
       "}\n",
       "\n",
       ".xr-var-name:hover,\n",
       ".xr-var-dims:hover,\n",
       ".xr-var-dtype:hover,\n",
       ".xr-attrs dt:hover {\n",
       "  overflow: visible;\n",
       "  width: auto;\n",
       "  z-index: 1;\n",
       "}\n",
       "\n",
       ".xr-var-attrs,\n",
       ".xr-var-data {\n",
       "  display: none;\n",
       "  background-color: var(--xr-background-color) !important;\n",
       "  padding-bottom: 5px !important;\n",
       "}\n",
       "\n",
       ".xr-var-attrs-in:checked ~ .xr-var-attrs,\n",
       ".xr-var-data-in:checked ~ .xr-var-data {\n",
       "  display: block;\n",
       "}\n",
       "\n",
       ".xr-var-data > table {\n",
       "  float: right;\n",
       "}\n",
       "\n",
       ".xr-var-name span,\n",
       ".xr-var-data,\n",
       ".xr-attrs {\n",
       "  padding-left: 25px !important;\n",
       "}\n",
       "\n",
       ".xr-attrs,\n",
       ".xr-var-attrs,\n",
       ".xr-var-data {\n",
       "  grid-column: 1 / -1;\n",
       "}\n",
       "\n",
       "dl.xr-attrs {\n",
       "  padding: 0;\n",
       "  margin: 0;\n",
       "  display: grid;\n",
       "  grid-template-columns: 125px auto;\n",
       "}\n",
       "\n",
       ".xr-attrs dt,\n",
       ".xr-attrs dd {\n",
       "  padding: 0;\n",
       "  margin: 0;\n",
       "  float: left;\n",
       "  padding-right: 10px;\n",
       "  width: auto;\n",
       "}\n",
       "\n",
       ".xr-attrs dt {\n",
       "  font-weight: normal;\n",
       "  grid-column: 1;\n",
       "}\n",
       "\n",
       ".xr-attrs dt:hover span {\n",
       "  display: inline-block;\n",
       "  background: var(--xr-background-color);\n",
       "  padding-right: 10px;\n",
       "}\n",
       "\n",
       ".xr-attrs dd {\n",
       "  grid-column: 2;\n",
       "  white-space: pre-wrap;\n",
       "  word-break: break-all;\n",
       "}\n",
       "\n",
       ".xr-icon-database,\n",
       ".xr-icon-file-text2 {\n",
       "  display: inline-block;\n",
       "  vertical-align: middle;\n",
       "  width: 1em;\n",
       "  height: 1.5em !important;\n",
       "  stroke-width: 0;\n",
       "  stroke: currentColor;\n",
       "  fill: currentColor;\n",
       "}\n",
       "</style><pre class='xr-text-repr-fallback'>&lt;xarray.Dataset&gt;\n",
       "Dimensions:      (x: 15, y: 10, z: 15)\n",
       "Coordinates:\n",
       "  * x            (x) float64 0.0 0.07143 0.1429 0.2143 ... 0.8571 0.9286 1.0\n",
       "  * y            (y) float64 0.0 0.1111 0.2222 0.3333 ... 0.7778 0.8889 1.0\n",
       "  * z            (z) float64 0.0 0.07143 0.1429 0.2143 ... 0.8571 0.9286 1.0\n",
       "Data variables:\n",
       "    temperature  (x, y, z) float64 0.1207 0.7616 0.4775 ... 0.2633 0.1718 0.6964\n",
       "    pressure     (x, y, z) float64 0.2961 0.646 0.3177 ... 0.4879 0.7093 0.455\n",
       "Attributes:\n",
       "    geospatial_vertical_units:  m</pre><div class='xr-wrap' style='display:none'><div class='xr-header'><div class='xr-obj-type'>xarray.Dataset</div></div><ul class='xr-sections'><li class='xr-section-item'><input id='section-9cd2d107-f201-44e0-8d16-8e380adfed28' class='xr-section-summary-in' type='checkbox' disabled ><label for='section-9cd2d107-f201-44e0-8d16-8e380adfed28' class='xr-section-summary'  title='Expand/collapse section'>Dimensions:</label><div class='xr-section-inline-details'><ul class='xr-dim-list'><li><span class='xr-has-index'>x</span>: 15</li><li><span class='xr-has-index'>y</span>: 10</li><li><span class='xr-has-index'>z</span>: 15</li></ul></div><div class='xr-section-details'></div></li><li class='xr-section-item'><input id='section-6dd99546-79b0-409d-b471-20c7bcb9a59a' class='xr-section-summary-in' type='checkbox'  checked><label for='section-6dd99546-79b0-409d-b471-20c7bcb9a59a' class='xr-section-summary' >Coordinates: <span>(3)</span></label><div class='xr-section-inline-details'></div><div class='xr-section-details'><ul class='xr-var-list'><li class='xr-var-item'><div class='xr-var-name'><span class='xr-has-index'>x</span></div><div class='xr-var-dims'>(x)</div><div class='xr-var-dtype'>float64</div><div class='xr-var-preview xr-preview'>0.0 0.07143 0.1429 ... 0.9286 1.0</div><input id='attrs-fb21d466-e6d1-454f-a489-39d90d14f82e' class='xr-var-attrs-in' type='checkbox' disabled><label for='attrs-fb21d466-e6d1-454f-a489-39d90d14f82e' title='Show/Hide attributes'><svg class='icon xr-icon-file-text2'><use xlink:href='#icon-file-text2'></use></svg></label><input id='data-cc85930e-34b8-45ac-927f-78e5a9ca6441' class='xr-var-data-in' type='checkbox'><label for='data-cc85930e-34b8-45ac-927f-78e5a9ca6441' title='Show/Hide data repr'><svg class='icon xr-icon-database'><use xlink:href='#icon-database'></use></svg></label><div class='xr-var-attrs'><dl class='xr-attrs'></dl></div><div class='xr-var-data'><pre>array([0.      , 0.071429, 0.142857, 0.214286, 0.285714, 0.357143, 0.428571,\n",
       "       0.5     , 0.571429, 0.642857, 0.714286, 0.785714, 0.857143, 0.928571,\n",
       "       1.      ])</pre></div></li><li class='xr-var-item'><div class='xr-var-name'><span class='xr-has-index'>y</span></div><div class='xr-var-dims'>(y)</div><div class='xr-var-dtype'>float64</div><div class='xr-var-preview xr-preview'>0.0 0.1111 0.2222 ... 0.8889 1.0</div><input id='attrs-028513b7-35ff-4dd0-8e30-8d94c1847157' class='xr-var-attrs-in' type='checkbox' disabled><label for='attrs-028513b7-35ff-4dd0-8e30-8d94c1847157' title='Show/Hide attributes'><svg class='icon xr-icon-file-text2'><use xlink:href='#icon-file-text2'></use></svg></label><input id='data-95465e13-0167-41a3-b707-09ae9e6f9ffd' class='xr-var-data-in' type='checkbox'><label for='data-95465e13-0167-41a3-b707-09ae9e6f9ffd' title='Show/Hide data repr'><svg class='icon xr-icon-database'><use xlink:href='#icon-database'></use></svg></label><div class='xr-var-attrs'><dl class='xr-attrs'></dl></div><div class='xr-var-data'><pre>array([0.      , 0.111111, 0.222222, 0.333333, 0.444444, 0.555556, 0.666667,\n",
       "       0.777778, 0.888889, 1.      ])</pre></div></li><li class='xr-var-item'><div class='xr-var-name'><span class='xr-has-index'>z</span></div><div class='xr-var-dims'>(z)</div><div class='xr-var-dtype'>float64</div><div class='xr-var-preview xr-preview'>0.0 0.07143 0.1429 ... 0.9286 1.0</div><input id='attrs-23af05b4-ebc3-4a99-ad38-3a5ee6937b71' class='xr-var-attrs-in' type='checkbox' disabled><label for='attrs-23af05b4-ebc3-4a99-ad38-3a5ee6937b71' title='Show/Hide attributes'><svg class='icon xr-icon-file-text2'><use xlink:href='#icon-file-text2'></use></svg></label><input id='data-96b8fcb2-5e81-4818-b72a-ddcf2d9d2999' class='xr-var-data-in' type='checkbox'><label for='data-96b8fcb2-5e81-4818-b72a-ddcf2d9d2999' title='Show/Hide data repr'><svg class='icon xr-icon-database'><use xlink:href='#icon-database'></use></svg></label><div class='xr-var-attrs'><dl class='xr-attrs'></dl></div><div class='xr-var-data'><pre>array([0.      , 0.071429, 0.142857, 0.214286, 0.285714, 0.357143, 0.428571,\n",
       "       0.5     , 0.571429, 0.642857, 0.714286, 0.785714, 0.857143, 0.928571,\n",
       "       1.      ])</pre></div></li></ul></div></li><li class='xr-section-item'><input id='section-3da350dc-8594-4ec3-b757-bbdc4cab998b' class='xr-section-summary-in' type='checkbox'  checked><label for='section-3da350dc-8594-4ec3-b757-bbdc4cab998b' class='xr-section-summary' >Data variables: <span>(2)</span></label><div class='xr-section-inline-details'></div><div class='xr-section-details'><ul class='xr-var-list'><li class='xr-var-item'><div class='xr-var-name'><span>temperature</span></div><div class='xr-var-dims'>(x, y, z)</div><div class='xr-var-dtype'>float64</div><div class='xr-var-preview xr-preview'>0.1207 0.7616 ... 0.1718 0.6964</div><input id='attrs-0891efb5-3bfd-4d71-8493-811617e325cd' class='xr-var-attrs-in' type='checkbox' disabled><label for='attrs-0891efb5-3bfd-4d71-8493-811617e325cd' title='Show/Hide attributes'><svg class='icon xr-icon-file-text2'><use xlink:href='#icon-file-text2'></use></svg></label><input id='data-568184ac-9693-4ca5-86ab-5ffaaddd3bd3' class='xr-var-data-in' type='checkbox'><label for='data-568184ac-9693-4ca5-86ab-5ffaaddd3bd3' title='Show/Hide data repr'><svg class='icon xr-icon-database'><use xlink:href='#icon-database'></use></svg></label><div class='xr-var-attrs'><dl class='xr-attrs'></dl></div><div class='xr-var-data'><pre>array([[[0.12068034, 0.76159968, 0.47751076, ..., 0.6074984 ,\n",
       "         0.51147454, 0.11086856],\n",
       "        [0.37696953, 0.56514903, 0.77418055, ..., 0.47791193,\n",
       "         0.03746618, 0.42534869],\n",
       "        [0.35980038, 0.63917315, 0.86838661, ..., 0.65383111,\n",
       "         0.03832973, 0.19662211],\n",
       "        ...,\n",
       "        [0.02786715, 0.75088502, 0.07347293, ..., 0.21525668,\n",
       "         0.09959925, 0.43537092],\n",
       "        [0.10363078, 0.05403214, 0.96148135, ..., 0.6071256 ,\n",
       "         0.0851203 , 0.09746291],\n",
       "        [0.04214336, 0.27993981, 0.66549643, ..., 0.08471771,\n",
       "         0.70551463, 0.23930942]],\n",
       "\n",
       "       [[0.34840645, 0.8417784 , 0.28715382, ..., 0.04851992,\n",
       "         0.64434955, 0.18790351],\n",
       "        [0.00912744, 0.48203474, 0.96096202, ..., 0.44636718,\n",
       "         0.46395966, 0.64758293],\n",
       "        [0.05096062, 0.79910355, 0.62134761, ..., 0.46155583,\n",
       "         0.70854333, 0.63171288],\n",
       "...\n",
       "        [0.61444897, 0.94378945, 0.94367854, ..., 0.07413905,\n",
       "         0.60089925, 0.23965582],\n",
       "        [0.23646692, 0.49205755, 0.66078228, ..., 0.81276594,\n",
       "         0.38437539, 0.06279794],\n",
       "        [0.53630044, 0.04327641, 0.71361645, ..., 0.37767713,\n",
       "         0.87331835, 0.17436567]],\n",
       "\n",
       "       [[0.83524014, 0.37337473, 0.09762762, ..., 0.39234754,\n",
       "         0.35497635, 0.77716273],\n",
       "        [0.27490392, 0.98670888, 0.06568605, ..., 0.8522496 ,\n",
       "         0.10717791, 0.43781174],\n",
       "        [0.70675538, 0.3723068 , 0.73522762, ..., 0.28947802,\n",
       "         0.59530929, 0.91266666],\n",
       "        ...,\n",
       "        [0.15708633, 0.74277705, 0.2562459 , ..., 0.69585919,\n",
       "         0.20108207, 0.18954537],\n",
       "        [0.32582424, 0.5600819 , 0.08239188, ..., 0.75285708,\n",
       "         0.77037985, 0.90445419],\n",
       "        [0.59528218, 0.42491645, 0.5526958 , ..., 0.26327333,\n",
       "         0.17182143, 0.69644369]]])</pre></div></li><li class='xr-var-item'><div class='xr-var-name'><span>pressure</span></div><div class='xr-var-dims'>(x, y, z)</div><div class='xr-var-dtype'>float64</div><div class='xr-var-preview xr-preview'>0.2961 0.646 ... 0.7093 0.455</div><input id='attrs-0706b2fb-0af3-4f94-80a1-9440460eb281' class='xr-var-attrs-in' type='checkbox' disabled><label for='attrs-0706b2fb-0af3-4f94-80a1-9440460eb281' title='Show/Hide attributes'><svg class='icon xr-icon-file-text2'><use xlink:href='#icon-file-text2'></use></svg></label><input id='data-cdeaa51f-1109-4f87-a6e1-7ce1938ada92' class='xr-var-data-in' type='checkbox'><label for='data-cdeaa51f-1109-4f87-a6e1-7ce1938ada92' title='Show/Hide data repr'><svg class='icon xr-icon-database'><use xlink:href='#icon-database'></use></svg></label><div class='xr-var-attrs'><dl class='xr-attrs'></dl></div><div class='xr-var-data'><pre>array([[[0.29610321, 0.64599333, 0.31766368, ..., 0.13832633,\n",
       "         0.94303962, 0.67848082],\n",
       "        [0.01275448, 0.02738067, 0.44264297, ..., 0.03518784,\n",
       "         0.40604249, 0.6921459 ],\n",
       "        [0.51373891, 0.08400421, 0.20408969, ..., 0.56785109,\n",
       "         0.45621796, 0.82081195],\n",
       "        ...,\n",
       "        [0.63490125, 0.76421002, 0.91977247, ..., 0.62665226,\n",
       "         0.26536318, 0.09255298],\n",
       "        [0.23331033, 0.01061956, 0.18584952, ..., 0.42606883,\n",
       "         0.11738321, 0.27990277],\n",
       "        [0.09548387, 0.73133309, 0.57164556, ..., 0.9772012 ,\n",
       "         0.57214129, 0.71737338]],\n",
       "\n",
       "       [[0.16278941, 0.24535813, 0.69201711, ..., 0.7283598 ,\n",
       "         0.12214793, 0.46318086],\n",
       "        [0.55392526, 0.73711046, 0.7632687 , ..., 0.57418683,\n",
       "         0.73055228, 0.46225817],\n",
       "        [0.28815353, 0.48056447, 0.8016718 , ..., 0.21467807,\n",
       "         0.72714625, 0.72537184],\n",
       "...\n",
       "        [0.14475289, 0.04255219, 0.06113378, ..., 0.71035474,\n",
       "         0.03186949, 0.80978042],\n",
       "        [0.57008385, 0.66426872, 0.05129133, ..., 0.82367748,\n",
       "         0.91502339, 0.12686029],\n",
       "        [0.61476808, 0.79550153, 0.01226527, ..., 0.76135305,\n",
       "         0.21820704, 0.85586566]],\n",
       "\n",
       "       [[0.40190547, 0.8145005 , 0.58850981, ..., 0.24552235,\n",
       "         0.54825675, 0.56267581],\n",
       "        [0.55686329, 0.27306455, 0.79579253, ..., 0.85141405,\n",
       "         0.83386211, 0.59284355],\n",
       "        [0.69968633, 0.7814953 , 0.7112147 , ..., 0.46781832,\n",
       "         0.80764435, 0.31672055],\n",
       "        ...,\n",
       "        [0.00732772, 0.82975808, 0.90203567, ..., 0.35680215,\n",
       "         0.90486918, 0.02502669],\n",
       "        [0.49171701, 0.93056133, 0.80855669, ..., 0.10083761,\n",
       "         0.58265546, 0.21923807],\n",
       "        [0.14520218, 0.59055393, 0.895406  , ..., 0.48794802,\n",
       "         0.70934526, 0.45496804]]])</pre></div></li></ul></div></li><li class='xr-section-item'><input id='section-ba72956d-d340-4fc2-b95a-6fd27196c2a0' class='xr-section-summary-in' type='checkbox'  checked><label for='section-ba72956d-d340-4fc2-b95a-6fd27196c2a0' class='xr-section-summary' >Attributes: <span>(1)</span></label><div class='xr-section-inline-details'></div><div class='xr-section-details'><dl class='xr-attrs'><dt><span>geospatial_vertical_units :</span></dt><dd>m</dd></dl></div></li></ul></div></div>"
      ],
      "text/plain": [
       "<xarray.Dataset>\n",
       "Dimensions:      (x: 15, y: 10, z: 15)\n",
       "Coordinates:\n",
       "  * x            (x) float64 0.0 0.07143 0.1429 0.2143 ... 0.8571 0.9286 1.0\n",
       "  * y            (y) float64 0.0 0.1111 0.2222 0.3333 ... 0.7778 0.8889 1.0\n",
       "  * z            (z) float64 0.0 0.07143 0.1429 0.2143 ... 0.8571 0.9286 1.0\n",
       "Data variables:\n",
       "    temperature  (x, y, z) float64 0.1207 0.7616 0.4775 ... 0.2633 0.1718 0.6964\n",
       "    pressure     (x, y, z) float64 0.2961 0.646 0.3177 ... 0.4879 0.7093 0.455\n",
       "Attributes:\n",
       "    geospatial_vertical_units:  m"
      ]
     },
     "execution_count": 1,
     "metadata": {},
     "output_type": "execute_result"
    }
   ],
   "source": [
    "from yt_xarray.sample_data import load_random_xr_data\n",
    "\n",
    "fields = {'temperature': ('x', 'y', 'z'), 'pressure': ('x', 'y', 'z')}\n",
    "dims = {'x': (0,1,15), 'y': (0, 1, 10), 'z': (0, 1, 15)}\n",
    "ds = load_random_xr_data(fields, dims, length_unit='m')\n",
    "ds"
   ]
  },
  {
   "cell_type": "markdown",
   "id": "c0f06a1a-7196-4da0-b41d-4298fa5644e7",
   "metadata": {},
   "source": [
    "While we're using random sample data here, note that yt_xarray provides a simple wrapper of the standard xarray `open_dataset` function that will check yt's `test_data_dir` for data if the file is not found in the local path. It is used in the same way as xarray:\n",
    "\n",
    "```python\n",
    "ds = yt_xarray.open_dataset(\"path/to/your/dataset.nc\")\n",
    "```\n",
    "\n"
   ]
  },
  {
   "cell_type": "markdown",
   "id": "c7603170-3ece-4240-be38-bfc9f963f1b2",
   "metadata": {},
   "source": [
    "### Loading all fields\n",
    "\n",
    "The primary way of loading data into yt is by creation of a yt dataset object. \n",
    "\n",
    "To create a yt dataset that loads all the data variables:"
   ]
  },
  {
   "cell_type": "code",
   "execution_count": 2,
   "id": "272662d7-65cc-426f-8a42-b41cf5a07313",
   "metadata": {},
   "outputs": [
    {
     "name": "stderr",
     "output_type": "stream",
     "text": [
      "yt_xarray : [INFO ] 2023-01-20 16:19:15,749:  Inferred geometry type is cartesian. To override, use ds.yt.set_geometry\n",
      "yt : [INFO     ] 2023-01-20 16:19:15,813 Parameters: current_time              = 0.0\n",
      "yt : [INFO     ] 2023-01-20 16:19:15,813 Parameters: domain_dimensions         = [15 10 15]\n",
      "yt : [INFO     ] 2023-01-20 16:19:15,814 Parameters: domain_left_edge          = [0. 0. 0.]\n",
      "yt : [INFO     ] 2023-01-20 16:19:15,815 Parameters: domain_right_edge         = [1. 1. 1.]\n",
      "yt : [INFO     ] 2023-01-20 16:19:15,816 Parameters: cosmological_simulation   = 0\n"
     ]
    }
   ],
   "source": [
    "import yt_xarray\n",
    "import yt\n",
    "\n",
    "yt_ds = ds.yt.load_grid()"
   ]
  },
  {
   "cell_type": "markdown",
   "id": "ccde9182-3221-4ade-a4e7-2b85bb1cdde6",
   "metadata": {},
   "source": [
    "note that this yt dataset actually maintains references to the open xarray dataset! Data will be loaded into yt only as needed. \n",
    "\n",
    "\n",
    "### A brief overview of yt datasets\n",
    "\n",
    "Now that we have a yt dataset, let's do a quick overview of a yt dataset:\n",
    "\n",
    "\n",
    "**Field Tuples**\n",
    "\n",
    "You can check the available fields in a yt dataset with:"
   ]
  },
  {
   "cell_type": "code",
   "execution_count": 3,
   "id": "0dcf56f3-434c-41a9-a94d-d26e96cfbf65",
   "metadata": {},
   "outputs": [
    {
     "data": {
      "text/plain": [
       "[('stream', 'pressure'), ('stream', 'temperature')]"
      ]
     },
     "execution_count": 3,
     "metadata": {},
     "output_type": "execute_result"
    }
   ],
   "source": [
    "yt_ds.field_list"
   ]
  },
  {
   "cell_type": "markdown",
   "id": "baf4848a-b204-4f7c-b942-c92b7312f892",
   "metadata": {},
   "source": [
    "fields in yt include both a field type and a field name. yt_xarray relies on yt's \"stream\" frontend infrastructure, so all of our xarray fields end up with a field type of \"stream\". This is important because when referring to fields, you'll need to supply both the field type and the field name. \n",
    "\n",
    "To construct a `SlicePlot`, for example:"
   ]
  },
  {
   "cell_type": "code",
   "execution_count": 4,
   "id": "f8bdd9b1-ad86-459e-ab7b-5baded948653",
   "metadata": {},
   "outputs": [
    {
     "name": "stderr",
     "output_type": "stream",
     "text": [
      "yt : [INFO     ] 2023-01-20 16:19:15,967 xlim = 0.000000 1.000000\n",
      "yt : [INFO     ] 2023-01-20 16:19:15,968 ylim = 0.000000 1.000000\n",
      "yt : [INFO     ] 2023-01-20 16:19:15,968 xlim = 0.000000 1.000000\n",
      "yt : [INFO     ] 2023-01-20 16:19:15,969 ylim = 0.000000 1.000000\n",
      "yt : [INFO     ] 2023-01-20 16:19:15,973 Making a fixed resolution buffer of (('stream', 'temperature')) 800 by 800\n"
     ]
    },
    {
     "data": {
      "text/html": [
       "<img style=\"max-width:100%;max-height:100%;\" src=\"data:image/png;base64,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\"><br>"
      ],
      "text/plain": [
       "<yt.visualization.plot_window.AxisAlignedSlicePlot at 0x7f1ac87dd370>"
      ]
     },
     "metadata": {},
     "output_type": "display_data"
    }
   ],
   "source": [
    "slc = yt.SlicePlot(yt_ds, \"z\", (\"stream\", \"temperature\"))\n",
    "slc.set_log((\"stream\", \"temperature\"), False)\n",
    "slc.show()"
   ]
  },
  {
   "cell_type": "markdown",
   "id": "0d007ae9-28d8-4673-8884-7e3745020bb3",
   "metadata": {},
   "source": [
    "**Domain extent and units**\n",
    "\n",
    "yt also has some useful attributes to quickly check the domain extents:"
   ]
  },
  {
   "cell_type": "code",
   "execution_count": 5,
   "id": "6585e4c2-5010-4483-bbd2-9582a549970d",
   "metadata": {},
   "outputs": [
    {
     "data": {
      "text/plain": [
       "unyt_array([0.5, 0.5, 0.5], 'code_length')"
      ]
     },
     "execution_count": 5,
     "metadata": {},
     "output_type": "execute_result"
    }
   ],
   "source": [
    "yt_ds.domain_center"
   ]
  },
  {
   "cell_type": "code",
   "execution_count": 6,
   "id": "2c6e209d-b953-4af8-9143-d80ad77a9983",
   "metadata": {},
   "outputs": [
    {
     "data": {
      "text/plain": [
       "unyt_array([1., 1., 1.], 'code_length')"
      ]
     },
     "execution_count": 6,
     "metadata": {},
     "output_type": "execute_result"
    }
   ],
   "source": [
    "yt_ds.domain_width"
   ]
  },
  {
   "cell_type": "markdown",
   "id": "0c8ac07d-d47f-4557-b771-55d35abf19cd",
   "metadata": {},
   "source": [
    "You'll notice that the output above are `unyt` arrays. The \"code_length\" refers to the representative length of your volume. You can view a unyt array with different unyts with:\n"
   ]
  },
  {
   "cell_type": "code",
   "execution_count": 7,
   "id": "abe0b1f8-968f-4f7d-b517-e8edc3e345c9",
   "metadata": {},
   "outputs": [
    {
     "data": {
      "text/plain": [
       "unyt_array([1., 1., 1.], 'm')"
      ]
     },
     "execution_count": 7,
     "metadata": {},
     "output_type": "execute_result"
    }
   ],
   "source": [
    "yt_ds.domain_width.to('m')"
   ]
  },
  {
   "cell_type": "markdown",
   "id": "42c9e68b-5093-444c-b123-9d8bcc14ee64",
   "metadata": {},
   "source": [
    "\n",
    "The above sample dataset sets an attribute, `geospatial_vertical_units`:"
   ]
  },
  {
   "cell_type": "code",
   "execution_count": 8,
   "id": "284b12f5-b595-40da-aff7-a079f28b8aa0",
   "metadata": {},
   "outputs": [
    {
     "data": {
      "text/plain": [
       "'m'"
      ]
     },
     "execution_count": 8,
     "metadata": {},
     "output_type": "execute_result"
    }
   ],
   "source": [
    "ds.geospatial_vertical_units"
   ]
  },
  {
   "cell_type": "markdown",
   "id": "f99f4103-d17d-4765-be60-6a694d393f09",
   "metadata": {},
   "source": [
    "which yt_xarray sets as the dataset `length_unit`:"
   ]
  },
  {
   "cell_type": "code",
   "execution_count": 9,
   "id": "abeab962-3051-477e-ac80-fb87df87e5de",
   "metadata": {},
   "outputs": [
    {
     "data": {
      "text/plain": [
       "unyt_quantity(1., 'm')"
      ]
     },
     "execution_count": 9,
     "metadata": {},
     "output_type": "execute_result"
    }
   ],
   "source": [
    "yt_ds.length_unit"
   ]
  },
  {
   "cell_type": "markdown",
   "id": "6f3677b7-1532-4397-b540-bbbde5e4f750",
   "metadata": {},
   "source": [
    "without this attribute, you can set it explicitly so that yt will know the dimensions of your input coordinates:"
   ]
  },
  {
   "cell_type": "code",
   "execution_count": 10,
   "id": "27e472e6-2c01-4dcc-b7ba-75566cd4749d",
   "metadata": {},
   "outputs": [
    {
     "name": "stderr",
     "output_type": "stream",
     "text": [
      "yt : [INFO     ] 2023-01-20 16:19:16,592 Parameters: current_time              = 0.0\n",
      "yt : [INFO     ] 2023-01-20 16:19:16,593 Parameters: domain_dimensions         = [15 10 15]\n",
      "yt : [INFO     ] 2023-01-20 16:19:16,594 Parameters: domain_left_edge          = [0. 0. 0.]\n",
      "yt : [INFO     ] 2023-01-20 16:19:16,595 Parameters: domain_right_edge         = [1. 1. 1.]\n",
      "yt : [INFO     ] 2023-01-20 16:19:16,596 Parameters: cosmological_simulation   = 0\n"
     ]
    }
   ],
   "source": [
    "yt_ds = ds.yt.load_grid(length_unit='km')"
   ]
  },
  {
   "cell_type": "code",
   "execution_count": 11,
   "id": "6207284e-1a85-4ac9-8209-0d2d094956d2",
   "metadata": {},
   "outputs": [
    {
     "data": {
      "text/plain": [
       "unyt_array([1000., 1000., 1000.], 'm')"
      ]
     },
     "execution_count": 11,
     "metadata": {},
     "output_type": "execute_result"
    }
   ],
   "source": [
    "yt_ds.domain_width.to('m')"
   ]
  },
  {
   "cell_type": "markdown",
   "id": "341ce0e1-4aa6-475b-834b-ee6ad96b9e4e",
   "metadata": {},
   "source": [
    "for more on units, unyt and yt, you can read more [here](https://yt-project.org/doc/analyzing/units.html). \n",
    "\n"
   ]
  },
  {
   "cell_type": "markdown",
   "id": "64143714-9589-42d6-afb2-fa4def4f937f",
   "metadata": {},
   "source": [
    "### Loading a subset of fields\n",
    "\n",
    "When you call `ds.yt.load_grid()` without arguments, it attempts to grab references to all of the available fields. If you only want to work with a subset of fields, you can supply the `fields` argument:"
   ]
  },
  {
   "cell_type": "code",
   "execution_count": 12,
   "id": "2fdaf1b5-0248-4cc9-870f-6a5ed8b24bd4",
   "metadata": {},
   "outputs": [
    {
     "name": "stderr",
     "output_type": "stream",
     "text": [
      "yt : [INFO     ] 2023-01-20 16:19:16,653 Parameters: current_time              = 0.0\n",
      "yt : [INFO     ] 2023-01-20 16:19:16,654 Parameters: domain_dimensions         = [15 10 15]\n",
      "yt : [INFO     ] 2023-01-20 16:19:16,655 Parameters: domain_left_edge          = [0. 0. 0.]\n",
      "yt : [INFO     ] 2023-01-20 16:19:16,656 Parameters: domain_right_edge         = [1. 1. 1.]\n",
      "yt : [INFO     ] 2023-01-20 16:19:16,656 Parameters: cosmological_simulation   = 0\n"
     ]
    }
   ],
   "source": [
    "yt_ds = ds.yt.load_grid(fields=('temperature',))"
   ]
  },
  {
   "cell_type": "markdown",
   "id": "9c981496-9c50-4bee-9a2c-e1fc4b0088c6",
   "metadata": {},
   "source": [
    "One of the limitations to `yt_xarray`at present is that the fields loaded into yt must have the same dimensions. \n",
    "\n",
    "If for example, we had a dataset with a mix of 2d and 3d and 4d (space + time) variables:\n"
   ]
  },
  {
   "cell_type": "code",
   "execution_count": 13,
   "id": "58628610-e6e6-428a-a49e-7a43ddc98bbe",
   "metadata": {},
   "outputs": [],
   "source": [
    "fields = {'temperature': ('x', 'y', 'z'), \n",
    "          'pressure': ('x', 'y', 'z'), \n",
    "          'precip': ('x', 'y', 'time'), \n",
    "          'cumulative_precip': ('x', 'y')}\n",
    "dims = {'x': (0,1,14), 'y': (0, 1, 10), 'z': (0, 1, 15), 'time': (0, 1, 11)}\n",
    "ds = load_random_xr_data(fields, dims, length_unit='m')"
   ]
  },
  {
   "cell_type": "markdown",
   "id": "c49a8f17-c79c-422d-bf63-d9eb5fbb5bc7",
   "metadata": {},
   "source": [
    "and simply try to load the full dataset with \n",
    "\n",
    "```\n",
    "ds.yt.load_grid()\n",
    "```\n",
    "then we will get an error due to the mismatching dimensions of the variables. In this case, we can load both the temperature and pressure fields with:"
   ]
  },
  {
   "cell_type": "code",
   "execution_count": 14,
   "id": "c65a0110-816b-4e78-b6af-7c427639e7c7",
   "metadata": {},
   "outputs": [
    {
     "name": "stderr",
     "output_type": "stream",
     "text": [
      "yt_xarray : [INFO ] 2023-01-20 16:19:16,670:  Inferred geometry type is cartesian. To override, use ds.yt.set_geometry\n",
      "yt : [INFO     ] 2023-01-20 16:19:16,712 Parameters: current_time              = 0.0\n",
      "yt : [INFO     ] 2023-01-20 16:19:16,713 Parameters: domain_dimensions         = [14 10 15]\n",
      "yt : [INFO     ] 2023-01-20 16:19:16,713 Parameters: domain_left_edge          = [0. 0. 0.]\n",
      "yt : [INFO     ] 2023-01-20 16:19:16,714 Parameters: domain_right_edge         = [1. 1. 1.]\n",
      "yt : [INFO     ] 2023-01-20 16:19:16,714 Parameters: cosmological_simulation   = 0\n"
     ]
    }
   ],
   "source": [
    "yt_ds = ds.yt.load_grid(fields=('temperature', 'pressure'))"
   ]
  },
  {
   "cell_type": "markdown",
   "id": "b0f0c000-c6b5-4d5b-90e1-a99741218f46",
   "metadata": {},
   "source": [
    "Furthermore, when loading variables with a time dimension, you should select the time index to load:"
   ]
  },
  {
   "cell_type": "code",
   "execution_count": 15,
   "id": "320cb3f4-eed1-4a25-b14a-dbbaf12b9096",
   "metadata": {},
   "outputs": [
    {
     "name": "stderr",
     "output_type": "stream",
     "text": [
      "yt : [INFO     ] 2023-01-20 16:19:16,756 Parameters: current_time              = 0.1\n",
      "yt : [INFO     ] 2023-01-20 16:19:16,757 Parameters: domain_dimensions         = [14 10  1]\n",
      "yt : [INFO     ] 2023-01-20 16:19:16,758 Parameters: domain_left_edge          = [ 0.   0.  -0.5]\n",
      "yt : [INFO     ] 2023-01-20 16:19:16,759 Parameters: domain_right_edge         = [1.  1.  0.5]\n",
      "yt : [INFO     ] 2023-01-20 16:19:16,759 Parameters: cosmological_simulation   = 0\n"
     ]
    }
   ],
   "source": [
    "yt_ds = ds.yt.load_grid(fields=('precip',), sel_dict={'time':1})"
   ]
  },
  {
   "cell_type": "code",
   "execution_count": 16,
   "id": "a96806a9-b9df-4466-97df-b87f7554e3f3",
   "metadata": {},
   "outputs": [
    {
     "name": "stderr",
     "output_type": "stream",
     "text": [
      "yt : [INFO     ] 2023-01-20 16:19:16,851 min value is 1.98771e-02 at 0.2500000000000000 0.8500000000000001 0.0000000000000000\n"
     ]
    }
   ],
   "source": [
    "value, location = yt_ds.find_min(('stream', 'precip'))"
   ]
  },
  {
   "cell_type": "markdown",
   "id": "7e410e6b-73c1-4512-a3d5-3e9c7cadd555",
   "metadata": {},
   "source": [
    "### Loading method and memory usage\n",
    "\n",
    "When you use `ds.yt.load_grid`, by default yt_xarray will use references to the open xarray dataset handle internally within yt to avoid copying data. If your dataset fits into memory without a problem, then you can supply an additional `use_callable=False` argument to direct yt_xarray to instead work in memory on copies of data."
   ]
  },
  {
   "cell_type": "code",
   "execution_count": 17,
   "id": "e7b9892b-20d4-4af2-9322-d59f7413b2bc",
   "metadata": {},
   "outputs": [
    {
     "name": "stderr",
     "output_type": "stream",
     "text": [
      "yt : [INFO     ] 2023-01-20 16:19:16,894 Parameters: current_time              = 0.0\n",
      "yt : [INFO     ] 2023-01-20 16:19:16,895 Parameters: domain_dimensions         = [14 10 15]\n",
      "yt : [INFO     ] 2023-01-20 16:19:16,895 Parameters: domain_left_edge          = [0. 0. 0.]\n",
      "yt : [INFO     ] 2023-01-20 16:19:16,896 Parameters: domain_right_edge         = [1. 1. 1.]\n",
      "yt : [INFO     ] 2023-01-20 16:19:16,896 Parameters: cosmological_simulation   = 0\n"
     ]
    }
   ],
   "source": [
    "yt_ds = ds.yt.load_grid(fields=('temperature',), use_callable=False)"
   ]
  },
  {
   "cell_type": "markdown",
   "id": "77d32668-466a-4203-a2e0-4cea364e6c4e",
   "metadata": {},
   "source": [
    "and data will be copied from the xarray dataset during creation of the yt dataset."
   ]
  },
  {
   "cell_type": "code",
   "execution_count": null,
   "id": "d876c775-2d74-4124-8ab9-8ea540a54343",
   "metadata": {},
   "outputs": [],
   "source": []
  }
 ],
 "metadata": {
  "kernelspec": {
   "display_name": "Python 3 (ipykernel)",
   "language": "python",
   "name": "python3"
  },
  "language_info": {
   "codemirror_mode": {
    "name": "ipython",
    "version": 3
   },
   "file_extension": ".py",
   "mimetype": "text/x-python",
   "name": "python",
   "nbconvert_exporter": "python",
   "pygments_lexer": "ipython3",
   "version": "3.9.1"
  }
 },
 "nbformat": 4,
 "nbformat_minor": 5
}
