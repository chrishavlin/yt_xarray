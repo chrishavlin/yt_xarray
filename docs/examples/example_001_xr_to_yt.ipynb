{
 "cells": [
  {
   "cell_type": "markdown",
   "id": "9abc7ae0-1bba-47d8-a1df-17386def470c",
   "metadata": {},
   "source": [
    "## Loading data with yt_xarray \n",
    "\n",
    "This notebook demonstrates how to initialize a yt dataset object from an open xarray dataset.\n",
    "\n",
    "After describing the sample data that is used, the notebook covers:\n",
    "\n",
    "* [Loading all fields](#Loading-all-fields)\n",
    "* [Overview of yt datasets](#A-brief-overview-of-yt-datasets)\n",
    "* [Loading a subset of fields](#Loading-a-subset-of-fields)\n",
    "* [Loading method and memory usage](#Loading-method-and-memory-usage)\n",
    "\n",
    "\n",
    "### sample data\n",
    "\n",
    "We'll be using some random sample data in this notebook (as well as many of the others), generated from a convenience function, `yt_xarray.sample_data.load_random_xr_data()`. To use it, we have to supply two dictionaries: one containing fieldnames mapped to the dimension names and a second containing the starting value, end value and number of elements for each dimension:\n",
    "\n",
    "\n"
   ]
  },
  {
   "cell_type": "code",
   "execution_count": 1,
   "id": "9b750bb0-f68d-4765-8860-caeb37f1b2f2",
   "metadata": {},
   "outputs": [
    {
     "data": {
      "text/html": [
       "<div><svg style=\"position: absolute; width: 0; height: 0; overflow: hidden\">\n",
       "<defs>\n",
       "<symbol id=\"icon-database\" viewBox=\"0 0 32 32\">\n",
       "<path d=\"M16 0c-8.837 0-16 2.239-16 5v4c0 2.761 7.163 5 16 5s16-2.239 16-5v-4c0-2.761-7.163-5-16-5z\"></path>\n",
       "<path d=\"M16 17c-8.837 0-16-2.239-16-5v6c0 2.761 7.163 5 16 5s16-2.239 16-5v-6c0 2.761-7.163 5-16 5z\"></path>\n",
       "<path d=\"M16 26c-8.837 0-16-2.239-16-5v6c0 2.761 7.163 5 16 5s16-2.239 16-5v-6c0 2.761-7.163 5-16 5z\"></path>\n",
       "</symbol>\n",
       "<symbol id=\"icon-file-text2\" viewBox=\"0 0 32 32\">\n",
       "<path d=\"M28.681 7.159c-0.694-0.947-1.662-2.053-2.724-3.116s-2.169-2.030-3.116-2.724c-1.612-1.182-2.393-1.319-2.841-1.319h-15.5c-1.378 0-2.5 1.121-2.5 2.5v27c0 1.378 1.122 2.5 2.5 2.5h23c1.378 0 2.5-1.122 2.5-2.5v-19.5c0-0.448-0.137-1.23-1.319-2.841zM24.543 5.457c0.959 0.959 1.712 1.825 2.268 2.543h-4.811v-4.811c0.718 0.556 1.584 1.309 2.543 2.268zM28 29.5c0 0.271-0.229 0.5-0.5 0.5h-23c-0.271 0-0.5-0.229-0.5-0.5v-27c0-0.271 0.229-0.5 0.5-0.5 0 0 15.499-0 15.5 0v7c0 0.552 0.448 1 1 1h7v19.5z\"></path>\n",
       "<path d=\"M23 26h-14c-0.552 0-1-0.448-1-1s0.448-1 1-1h14c0.552 0 1 0.448 1 1s-0.448 1-1 1z\"></path>\n",
       "<path d=\"M23 22h-14c-0.552 0-1-0.448-1-1s0.448-1 1-1h14c0.552 0 1 0.448 1 1s-0.448 1-1 1z\"></path>\n",
       "<path d=\"M23 18h-14c-0.552 0-1-0.448-1-1s0.448-1 1-1h14c0.552 0 1 0.448 1 1s-0.448 1-1 1z\"></path>\n",
       "</symbol>\n",
       "</defs>\n",
       "</svg>\n",
       "<style>/* CSS stylesheet for displaying xarray objects in jupyterlab.\n",
       " *\n",
       " */\n",
       "\n",
       ":root {\n",
       "  --xr-font-color0: var(--jp-content-font-color0, rgba(0, 0, 0, 1));\n",
       "  --xr-font-color2: var(--jp-content-font-color2, rgba(0, 0, 0, 0.54));\n",
       "  --xr-font-color3: var(--jp-content-font-color3, rgba(0, 0, 0, 0.38));\n",
       "  --xr-border-color: var(--jp-border-color2, #e0e0e0);\n",
       "  --xr-disabled-color: var(--jp-layout-color3, #bdbdbd);\n",
       "  --xr-background-color: var(--jp-layout-color0, white);\n",
       "  --xr-background-color-row-even: var(--jp-layout-color1, white);\n",
       "  --xr-background-color-row-odd: var(--jp-layout-color2, #eeeeee);\n",
       "}\n",
       "\n",
       "html[theme=dark],\n",
       "body.vscode-dark {\n",
       "  --xr-font-color0: rgba(255, 255, 255, 1);\n",
       "  --xr-font-color2: rgba(255, 255, 255, 0.54);\n",
       "  --xr-font-color3: rgba(255, 255, 255, 0.38);\n",
       "  --xr-border-color: #1F1F1F;\n",
       "  --xr-disabled-color: #515151;\n",
       "  --xr-background-color: #111111;\n",
       "  --xr-background-color-row-even: #111111;\n",
       "  --xr-background-color-row-odd: #313131;\n",
       "}\n",
       "\n",
       ".xr-wrap {\n",
       "  display: block !important;\n",
       "  min-width: 300px;\n",
       "  max-width: 700px;\n",
       "}\n",
       "\n",
       ".xr-text-repr-fallback {\n",
       "  /* fallback to plain text repr when CSS is not injected (untrusted notebook) */\n",
       "  display: none;\n",
       "}\n",
       "\n",
       ".xr-header {\n",
       "  padding-top: 6px;\n",
       "  padding-bottom: 6px;\n",
       "  margin-bottom: 4px;\n",
       "  border-bottom: solid 1px var(--xr-border-color);\n",
       "}\n",
       "\n",
       ".xr-header > div,\n",
       ".xr-header > ul {\n",
       "  display: inline;\n",
       "  margin-top: 0;\n",
       "  margin-bottom: 0;\n",
       "}\n",
       "\n",
       ".xr-obj-type,\n",
       ".xr-array-name {\n",
       "  margin-left: 2px;\n",
       "  margin-right: 10px;\n",
       "}\n",
       "\n",
       ".xr-obj-type {\n",
       "  color: var(--xr-font-color2);\n",
       "}\n",
       "\n",
       ".xr-sections {\n",
       "  padding-left: 0 !important;\n",
       "  display: grid;\n",
       "  grid-template-columns: 150px auto auto 1fr 20px 20px;\n",
       "}\n",
       "\n",
       ".xr-section-item {\n",
       "  display: contents;\n",
       "}\n",
       "\n",
       ".xr-section-item input {\n",
       "  display: none;\n",
       "}\n",
       "\n",
       ".xr-section-item input + label {\n",
       "  color: var(--xr-disabled-color);\n",
       "}\n",
       "\n",
       ".xr-section-item input:enabled + label {\n",
       "  cursor: pointer;\n",
       "  color: var(--xr-font-color2);\n",
       "}\n",
       "\n",
       ".xr-section-item input:enabled + label:hover {\n",
       "  color: var(--xr-font-color0);\n",
       "}\n",
       "\n",
       ".xr-section-summary {\n",
       "  grid-column: 1;\n",
       "  color: var(--xr-font-color2);\n",
       "  font-weight: 500;\n",
       "}\n",
       "\n",
       ".xr-section-summary > span {\n",
       "  display: inline-block;\n",
       "  padding-left: 0.5em;\n",
       "}\n",
       "\n",
       ".xr-section-summary-in:disabled + label {\n",
       "  color: var(--xr-font-color2);\n",
       "}\n",
       "\n",
       ".xr-section-summary-in + label:before {\n",
       "  display: inline-block;\n",
       "  content: '►';\n",
       "  font-size: 11px;\n",
       "  width: 15px;\n",
       "  text-align: center;\n",
       "}\n",
       "\n",
       ".xr-section-summary-in:disabled + label:before {\n",
       "  color: var(--xr-disabled-color);\n",
       "}\n",
       "\n",
       ".xr-section-summary-in:checked + label:before {\n",
       "  content: '▼';\n",
       "}\n",
       "\n",
       ".xr-section-summary-in:checked + label > span {\n",
       "  display: none;\n",
       "}\n",
       "\n",
       ".xr-section-summary,\n",
       ".xr-section-inline-details {\n",
       "  padding-top: 4px;\n",
       "  padding-bottom: 4px;\n",
       "}\n",
       "\n",
       ".xr-section-inline-details {\n",
       "  grid-column: 2 / -1;\n",
       "}\n",
       "\n",
       ".xr-section-details {\n",
       "  display: none;\n",
       "  grid-column: 1 / -1;\n",
       "  margin-bottom: 5px;\n",
       "}\n",
       "\n",
       ".xr-section-summary-in:checked ~ .xr-section-details {\n",
       "  display: contents;\n",
       "}\n",
       "\n",
       ".xr-array-wrap {\n",
       "  grid-column: 1 / -1;\n",
       "  display: grid;\n",
       "  grid-template-columns: 20px auto;\n",
       "}\n",
       "\n",
       ".xr-array-wrap > label {\n",
       "  grid-column: 1;\n",
       "  vertical-align: top;\n",
       "}\n",
       "\n",
       ".xr-preview {\n",
       "  color: var(--xr-font-color3);\n",
       "}\n",
       "\n",
       ".xr-array-preview,\n",
       ".xr-array-data {\n",
       "  padding: 0 5px !important;\n",
       "  grid-column: 2;\n",
       "}\n",
       "\n",
       ".xr-array-data,\n",
       ".xr-array-in:checked ~ .xr-array-preview {\n",
       "  display: none;\n",
       "}\n",
       "\n",
       ".xr-array-in:checked ~ .xr-array-data,\n",
       ".xr-array-preview {\n",
       "  display: inline-block;\n",
       "}\n",
       "\n",
       ".xr-dim-list {\n",
       "  display: inline-block !important;\n",
       "  list-style: none;\n",
       "  padding: 0 !important;\n",
       "  margin: 0;\n",
       "}\n",
       "\n",
       ".xr-dim-list li {\n",
       "  display: inline-block;\n",
       "  padding: 0;\n",
       "  margin: 0;\n",
       "}\n",
       "\n",
       ".xr-dim-list:before {\n",
       "  content: '(';\n",
       "}\n",
       "\n",
       ".xr-dim-list:after {\n",
       "  content: ')';\n",
       "}\n",
       "\n",
       ".xr-dim-list li:not(:last-child):after {\n",
       "  content: ',';\n",
       "  padding-right: 5px;\n",
       "}\n",
       "\n",
       ".xr-has-index {\n",
       "  font-weight: bold;\n",
       "}\n",
       "\n",
       ".xr-var-list,\n",
       ".xr-var-item {\n",
       "  display: contents;\n",
       "}\n",
       "\n",
       ".xr-var-item > div,\n",
       ".xr-var-item label,\n",
       ".xr-var-item > .xr-var-name span {\n",
       "  background-color: var(--xr-background-color-row-even);\n",
       "  margin-bottom: 0;\n",
       "}\n",
       "\n",
       ".xr-var-item > .xr-var-name:hover span {\n",
       "  padding-right: 5px;\n",
       "}\n",
       "\n",
       ".xr-var-list > li:nth-child(odd) > div,\n",
       ".xr-var-list > li:nth-child(odd) > label,\n",
       ".xr-var-list > li:nth-child(odd) > .xr-var-name span {\n",
       "  background-color: var(--xr-background-color-row-odd);\n",
       "}\n",
       "\n",
       ".xr-var-name {\n",
       "  grid-column: 1;\n",
       "}\n",
       "\n",
       ".xr-var-dims {\n",
       "  grid-column: 2;\n",
       "}\n",
       "\n",
       ".xr-var-dtype {\n",
       "  grid-column: 3;\n",
       "  text-align: right;\n",
       "  color: var(--xr-font-color2);\n",
       "}\n",
       "\n",
       ".xr-var-preview {\n",
       "  grid-column: 4;\n",
       "}\n",
       "\n",
       ".xr-var-name,\n",
       ".xr-var-dims,\n",
       ".xr-var-dtype,\n",
       ".xr-preview,\n",
       ".xr-attrs dt {\n",
       "  white-space: nowrap;\n",
       "  overflow: hidden;\n",
       "  text-overflow: ellipsis;\n",
       "  padding-right: 10px;\n",
       "}\n",
       "\n",
       ".xr-var-name:hover,\n",
       ".xr-var-dims:hover,\n",
       ".xr-var-dtype:hover,\n",
       ".xr-attrs dt:hover {\n",
       "  overflow: visible;\n",
       "  width: auto;\n",
       "  z-index: 1;\n",
       "}\n",
       "\n",
       ".xr-var-attrs,\n",
       ".xr-var-data {\n",
       "  display: none;\n",
       "  background-color: var(--xr-background-color) !important;\n",
       "  padding-bottom: 5px !important;\n",
       "}\n",
       "\n",
       ".xr-var-attrs-in:checked ~ .xr-var-attrs,\n",
       ".xr-var-data-in:checked ~ .xr-var-data {\n",
       "  display: block;\n",
       "}\n",
       "\n",
       ".xr-var-data > table {\n",
       "  float: right;\n",
       "}\n",
       "\n",
       ".xr-var-name span,\n",
       ".xr-var-data,\n",
       ".xr-attrs {\n",
       "  padding-left: 25px !important;\n",
       "}\n",
       "\n",
       ".xr-attrs,\n",
       ".xr-var-attrs,\n",
       ".xr-var-data {\n",
       "  grid-column: 1 / -1;\n",
       "}\n",
       "\n",
       "dl.xr-attrs {\n",
       "  padding: 0;\n",
       "  margin: 0;\n",
       "  display: grid;\n",
       "  grid-template-columns: 125px auto;\n",
       "}\n",
       "\n",
       ".xr-attrs dt,\n",
       ".xr-attrs dd {\n",
       "  padding: 0;\n",
       "  margin: 0;\n",
       "  float: left;\n",
       "  padding-right: 10px;\n",
       "  width: auto;\n",
       "}\n",
       "\n",
       ".xr-attrs dt {\n",
       "  font-weight: normal;\n",
       "  grid-column: 1;\n",
       "}\n",
       "\n",
       ".xr-attrs dt:hover span {\n",
       "  display: inline-block;\n",
       "  background: var(--xr-background-color);\n",
       "  padding-right: 10px;\n",
       "}\n",
       "\n",
       ".xr-attrs dd {\n",
       "  grid-column: 2;\n",
       "  white-space: pre-wrap;\n",
       "  word-break: break-all;\n",
       "}\n",
       "\n",
       ".xr-icon-database,\n",
       ".xr-icon-file-text2 {\n",
       "  display: inline-block;\n",
       "  vertical-align: middle;\n",
       "  width: 1em;\n",
       "  height: 1.5em !important;\n",
       "  stroke-width: 0;\n",
       "  stroke: currentColor;\n",
       "  fill: currentColor;\n",
       "}\n",
       "</style><pre class='xr-text-repr-fallback'>&lt;xarray.Dataset&gt;\n",
       "Dimensions:      (x: 15, y: 10, z: 15)\n",
       "Coordinates:\n",
       "  * x            (x) float64 0.0 0.07143 0.1429 0.2143 ... 0.8571 0.9286 1.0\n",
       "  * y            (y) float64 0.0 0.1111 0.2222 0.3333 ... 0.7778 0.8889 1.0\n",
       "  * z            (z) float64 0.0 0.07143 0.1429 0.2143 ... 0.8571 0.9286 1.0\n",
       "Data variables:\n",
       "    temperature  (x, y, z) float64 0.1949 0.9943 0.06606 ... 0.3274 0.4862\n",
       "    pressure     (x, y, z) float64 0.4819 0.6646 0.1181 ... 0.4984 0.2405 0.6845\n",
       "Attributes:\n",
       "    geospatial_vertical_units:  m</pre><div class='xr-wrap' style='display:none'><div class='xr-header'><div class='xr-obj-type'>xarray.Dataset</div></div><ul class='xr-sections'><li class='xr-section-item'><input id='section-70d55e1c-fcb3-40de-8814-25b3389bbc1a' class='xr-section-summary-in' type='checkbox' disabled ><label for='section-70d55e1c-fcb3-40de-8814-25b3389bbc1a' class='xr-section-summary'  title='Expand/collapse section'>Dimensions:</label><div class='xr-section-inline-details'><ul class='xr-dim-list'><li><span class='xr-has-index'>x</span>: 15</li><li><span class='xr-has-index'>y</span>: 10</li><li><span class='xr-has-index'>z</span>: 15</li></ul></div><div class='xr-section-details'></div></li><li class='xr-section-item'><input id='section-552d254a-6a8c-4c48-b7a9-e50ada5c53d5' class='xr-section-summary-in' type='checkbox'  checked><label for='section-552d254a-6a8c-4c48-b7a9-e50ada5c53d5' class='xr-section-summary' >Coordinates: <span>(3)</span></label><div class='xr-section-inline-details'></div><div class='xr-section-details'><ul class='xr-var-list'><li class='xr-var-item'><div class='xr-var-name'><span class='xr-has-index'>x</span></div><div class='xr-var-dims'>(x)</div><div class='xr-var-dtype'>float64</div><div class='xr-var-preview xr-preview'>0.0 0.07143 0.1429 ... 0.9286 1.0</div><input id='attrs-727787c7-2c20-4da4-b84a-55c6df610169' class='xr-var-attrs-in' type='checkbox' disabled><label for='attrs-727787c7-2c20-4da4-b84a-55c6df610169' title='Show/Hide attributes'><svg class='icon xr-icon-file-text2'><use xlink:href='#icon-file-text2'></use></svg></label><input id='data-3decf180-5b6e-4c05-8870-a8858f04f4ce' class='xr-var-data-in' type='checkbox'><label for='data-3decf180-5b6e-4c05-8870-a8858f04f4ce' title='Show/Hide data repr'><svg class='icon xr-icon-database'><use xlink:href='#icon-database'></use></svg></label><div class='xr-var-attrs'><dl class='xr-attrs'></dl></div><div class='xr-var-data'><pre>array([0.      , 0.071429, 0.142857, 0.214286, 0.285714, 0.357143, 0.428571,\n",
       "       0.5     , 0.571429, 0.642857, 0.714286, 0.785714, 0.857143, 0.928571,\n",
       "       1.      ])</pre></div></li><li class='xr-var-item'><div class='xr-var-name'><span class='xr-has-index'>y</span></div><div class='xr-var-dims'>(y)</div><div class='xr-var-dtype'>float64</div><div class='xr-var-preview xr-preview'>0.0 0.1111 0.2222 ... 0.8889 1.0</div><input id='attrs-77568d68-f22b-4ab8-983c-0e498113139d' class='xr-var-attrs-in' type='checkbox' disabled><label for='attrs-77568d68-f22b-4ab8-983c-0e498113139d' title='Show/Hide attributes'><svg class='icon xr-icon-file-text2'><use xlink:href='#icon-file-text2'></use></svg></label><input id='data-9f382002-659b-4859-bbcd-a88fded2ab64' class='xr-var-data-in' type='checkbox'><label for='data-9f382002-659b-4859-bbcd-a88fded2ab64' title='Show/Hide data repr'><svg class='icon xr-icon-database'><use xlink:href='#icon-database'></use></svg></label><div class='xr-var-attrs'><dl class='xr-attrs'></dl></div><div class='xr-var-data'><pre>array([0.      , 0.111111, 0.222222, 0.333333, 0.444444, 0.555556, 0.666667,\n",
       "       0.777778, 0.888889, 1.      ])</pre></div></li><li class='xr-var-item'><div class='xr-var-name'><span class='xr-has-index'>z</span></div><div class='xr-var-dims'>(z)</div><div class='xr-var-dtype'>float64</div><div class='xr-var-preview xr-preview'>0.0 0.07143 0.1429 ... 0.9286 1.0</div><input id='attrs-d890eaa1-4c77-4374-a924-c9f80618bf58' class='xr-var-attrs-in' type='checkbox' disabled><label for='attrs-d890eaa1-4c77-4374-a924-c9f80618bf58' title='Show/Hide attributes'><svg class='icon xr-icon-file-text2'><use xlink:href='#icon-file-text2'></use></svg></label><input id='data-5d342ecf-f897-493a-b8db-e7ac8c80440c' class='xr-var-data-in' type='checkbox'><label for='data-5d342ecf-f897-493a-b8db-e7ac8c80440c' title='Show/Hide data repr'><svg class='icon xr-icon-database'><use xlink:href='#icon-database'></use></svg></label><div class='xr-var-attrs'><dl class='xr-attrs'></dl></div><div class='xr-var-data'><pre>array([0.      , 0.071429, 0.142857, 0.214286, 0.285714, 0.357143, 0.428571,\n",
       "       0.5     , 0.571429, 0.642857, 0.714286, 0.785714, 0.857143, 0.928571,\n",
       "       1.      ])</pre></div></li></ul></div></li><li class='xr-section-item'><input id='section-4ee8bcdb-300d-43d9-92a8-fc68bde2ff18' class='xr-section-summary-in' type='checkbox'  checked><label for='section-4ee8bcdb-300d-43d9-92a8-fc68bde2ff18' class='xr-section-summary' >Data variables: <span>(2)</span></label><div class='xr-section-inline-details'></div><div class='xr-section-details'><ul class='xr-var-list'><li class='xr-var-item'><div class='xr-var-name'><span>temperature</span></div><div class='xr-var-dims'>(x, y, z)</div><div class='xr-var-dtype'>float64</div><div class='xr-var-preview xr-preview'>0.1949 0.9943 ... 0.3274 0.4862</div><input id='attrs-b82b3d02-955c-48a4-b7b1-edb784ee8dda' class='xr-var-attrs-in' type='checkbox' disabled><label for='attrs-b82b3d02-955c-48a4-b7b1-edb784ee8dda' title='Show/Hide attributes'><svg class='icon xr-icon-file-text2'><use xlink:href='#icon-file-text2'></use></svg></label><input id='data-76a5e940-9d40-4c62-ba0b-469518541b74' class='xr-var-data-in' type='checkbox'><label for='data-76a5e940-9d40-4c62-ba0b-469518541b74' title='Show/Hide data repr'><svg class='icon xr-icon-database'><use xlink:href='#icon-database'></use></svg></label><div class='xr-var-attrs'><dl class='xr-attrs'></dl></div><div class='xr-var-data'><pre>array([[[0.19485498, 0.99429172, 0.06605966, ..., 0.41601415,\n",
       "         0.89963472, 0.81236712],\n",
       "        [0.67286383, 0.76642929, 0.96174564, ..., 0.60487412,\n",
       "         0.00877505, 0.31646834],\n",
       "        [0.56984211, 0.8842373 , 0.54976535, ..., 0.09636187,\n",
       "         0.7787217 , 0.79880748],\n",
       "        ...,\n",
       "        [0.9514791 , 0.14820645, 0.60023634, ..., 0.60403654,\n",
       "         0.6078299 , 0.97784538],\n",
       "        [0.36509262, 0.31413358, 0.53430871, ..., 0.88981525,\n",
       "         0.24867767, 0.41015009],\n",
       "        [0.91330364, 0.42203331, 0.19080689, ..., 0.12552064,\n",
       "         0.25038813, 0.95682693]],\n",
       "\n",
       "       [[0.1103123 , 0.64222922, 0.16925563, ..., 0.71129078,\n",
       "         0.15850342, 0.60127565],\n",
       "        [0.56396288, 0.6098795 , 0.59440117, ..., 0.35464523,\n",
       "         0.68314933, 0.78825654],\n",
       "        [0.71279701, 0.80948552, 0.3031392 , ..., 0.33787272,\n",
       "         0.11125893, 0.24664163],\n",
       "...\n",
       "        [0.01835461, 0.28239141, 0.03094184, ..., 0.9707961 ,\n",
       "         0.28932843, 0.00390144],\n",
       "        [0.70883961, 0.70635011, 0.19183233, ..., 0.54010893,\n",
       "         0.01163004, 0.64375053],\n",
       "        [0.25189792, 0.10241246, 0.89226887, ..., 0.58688541,\n",
       "         0.38821218, 0.09489151]],\n",
       "\n",
       "       [[0.14411544, 0.71320992, 0.72954364, ..., 0.37102704,\n",
       "         0.81517032, 0.71044159],\n",
       "        [0.59795118, 0.04290239, 0.37205245, ..., 0.94154774,\n",
       "         0.18983434, 0.57660091],\n",
       "        [0.84928377, 0.15921857, 0.12337   , ..., 0.29237736,\n",
       "         0.6498055 , 0.68952889],\n",
       "        ...,\n",
       "        [0.84878411, 0.08266238, 0.76340359, ..., 0.86758826,\n",
       "         0.7892696 , 0.39740254],\n",
       "        [0.168807  , 0.07158901, 0.24015856, ..., 0.68290096,\n",
       "         0.11138832, 0.6384576 ],\n",
       "        [0.53646733, 0.18534511, 0.51231048, ..., 0.28269429,\n",
       "         0.32741961, 0.486191  ]]])</pre></div></li><li class='xr-var-item'><div class='xr-var-name'><span>pressure</span></div><div class='xr-var-dims'>(x, y, z)</div><div class='xr-var-dtype'>float64</div><div class='xr-var-preview xr-preview'>0.4819 0.6646 ... 0.2405 0.6845</div><input id='attrs-3f87693f-4364-46df-a0a9-97e017136268' class='xr-var-attrs-in' type='checkbox' disabled><label for='attrs-3f87693f-4364-46df-a0a9-97e017136268' title='Show/Hide attributes'><svg class='icon xr-icon-file-text2'><use xlink:href='#icon-file-text2'></use></svg></label><input id='data-98c8bfd9-ebbc-4862-82c3-ff2f6d632303' class='xr-var-data-in' type='checkbox'><label for='data-98c8bfd9-ebbc-4862-82c3-ff2f6d632303' title='Show/Hide data repr'><svg class='icon xr-icon-database'><use xlink:href='#icon-database'></use></svg></label><div class='xr-var-attrs'><dl class='xr-attrs'></dl></div><div class='xr-var-data'><pre>array([[[0.48191555, 0.66461294, 0.11809399, ..., 0.22085129,\n",
       "         0.55363837, 0.3589399 ],\n",
       "        [0.85266283, 0.31179962, 0.11161343, ..., 0.77993028,\n",
       "         0.1304709 , 0.04620293],\n",
       "        [0.54681045, 0.15732126, 0.69315609, ..., 0.22407559,\n",
       "         0.12717209, 0.09178062],\n",
       "        ...,\n",
       "        [0.0961042 , 0.91799019, 0.1367524 , ..., 0.10316893,\n",
       "         0.87207585, 0.80989584],\n",
       "        [0.06913173, 0.15480922, 0.58139935, ..., 0.89932548,\n",
       "         0.24141801, 0.54694854],\n",
       "        [0.5522146 , 0.66811447, 0.35175935, ..., 0.44309437,\n",
       "         0.46265891, 0.6445087 ]],\n",
       "\n",
       "       [[0.90356187, 0.10560731, 0.44879544, ..., 0.47613254,\n",
       "         0.95021896, 0.82809754],\n",
       "        [0.33501522, 0.15365577, 0.40969497, ..., 0.10975022,\n",
       "         0.19177653, 0.55396496],\n",
       "        [0.94882722, 0.33327961, 0.8362061 , ..., 0.09647984,\n",
       "         0.02619238, 0.53162039],\n",
       "...\n",
       "        [0.72477059, 0.19116867, 0.75382179, ..., 0.08047972,\n",
       "         0.45431601, 0.52339851],\n",
       "        [0.49464829, 0.08773471, 0.3186488 , ..., 0.05153842,\n",
       "         0.28949826, 0.66277209],\n",
       "        [0.62471237, 0.92156035, 0.01397624, ..., 0.27083779,\n",
       "         0.04110201, 0.03099323]],\n",
       "\n",
       "       [[0.29157727, 0.40850655, 0.22327963, ..., 0.50681912,\n",
       "         0.03665519, 0.5600259 ],\n",
       "        [0.47490686, 0.67563542, 0.25415381, ..., 0.13307733,\n",
       "         0.91746599, 0.68106919],\n",
       "        [0.92444054, 0.73762788, 0.3954246 , ..., 0.20630819,\n",
       "         0.50000192, 0.78678035],\n",
       "        ...,\n",
       "        [0.88372644, 0.16776688, 0.85668861, ..., 0.04468622,\n",
       "         0.05960695, 0.04393478],\n",
       "        [0.88750052, 0.81240744, 0.41208665, ..., 0.7548528 ,\n",
       "         0.23604824, 0.17992718],\n",
       "        [0.9759034 , 0.02883307, 0.41420645, ..., 0.49844771,\n",
       "         0.24051961, 0.6845133 ]]])</pre></div></li></ul></div></li><li class='xr-section-item'><input id='section-84ffc818-82ca-442d-89bb-787b48c38a18' class='xr-section-summary-in' type='checkbox'  checked><label for='section-84ffc818-82ca-442d-89bb-787b48c38a18' class='xr-section-summary' >Attributes: <span>(1)</span></label><div class='xr-section-inline-details'></div><div class='xr-section-details'><dl class='xr-attrs'><dt><span>geospatial_vertical_units :</span></dt><dd>m</dd></dl></div></li></ul></div></div>"
      ],
      "text/plain": [
       "<xarray.Dataset>\n",
       "Dimensions:      (x: 15, y: 10, z: 15)\n",
       "Coordinates:\n",
       "  * x            (x) float64 0.0 0.07143 0.1429 0.2143 ... 0.8571 0.9286 1.0\n",
       "  * y            (y) float64 0.0 0.1111 0.2222 0.3333 ... 0.7778 0.8889 1.0\n",
       "  * z            (z) float64 0.0 0.07143 0.1429 0.2143 ... 0.8571 0.9286 1.0\n",
       "Data variables:\n",
       "    temperature  (x, y, z) float64 0.1949 0.9943 0.06606 ... 0.3274 0.4862\n",
       "    pressure     (x, y, z) float64 0.4819 0.6646 0.1181 ... 0.4984 0.2405 0.6845\n",
       "Attributes:\n",
       "    geospatial_vertical_units:  m"
      ]
     },
     "execution_count": 1,
     "metadata": {},
     "output_type": "execute_result"
    }
   ],
   "source": [
    "from yt_xarray.sample_data import load_random_xr_data\n",
    "\n",
    "fields = {'temperature': ('x', 'y', 'z'), 'pressure': ('x', 'y', 'z')}\n",
    "dims = {'x': (0,1,15), 'y': (0, 1, 10), 'z': (0, 1, 15)}\n",
    "ds = load_random_xr_data(fields, dims, length_unit='m')\n",
    "ds"
   ]
  },
  {
   "cell_type": "markdown",
   "id": "c0f06a1a-7196-4da0-b41d-4298fa5644e7",
   "metadata": {},
   "source": [
    "While we're using random sample data here, note that yt_xarray provides a simple wrapper of the standard xarray `open_dataset` function that will check yt's `test_data_dir` for data if the file is not found in the local path. It is used in the same way as xarray:\n",
    "\n",
    "```python\n",
    "ds = yt_xarray.open_dataset(\"path/to/your/dataset.nc\")\n",
    "```\n",
    "\n"
   ]
  },
  {
   "cell_type": "markdown",
   "id": "c7603170-3ece-4240-be38-bfc9f963f1b2",
   "metadata": {},
   "source": [
    "### Loading all fields\n",
    "\n",
    "The primary way of loading data into yt is by creation of a yt dataset object. \n",
    "\n",
    "To create a yt dataset that loads all the data variables:"
   ]
  },
  {
   "cell_type": "code",
   "execution_count": 2,
   "id": "272662d7-65cc-426f-8a42-b41cf5a07313",
   "metadata": {},
   "outputs": [
    {
     "name": "stderr",
     "output_type": "stream",
     "text": [
      "yt : [INFO     ] 2023-01-12 16:36:54,788 Parameters: current_time              = 0.0\n",
      "yt : [INFO     ] 2023-01-12 16:36:54,790 Parameters: domain_dimensions         = [15 10 15]\n",
      "yt : [INFO     ] 2023-01-12 16:36:54,791 Parameters: domain_left_edge          = [0. 0. 0.]\n",
      "yt : [INFO     ] 2023-01-12 16:36:54,792 Parameters: domain_right_edge         = [1. 1. 1.]\n",
      "yt : [INFO     ] 2023-01-12 16:36:54,793 Parameters: cosmological_simulation   = 0\n"
     ]
    },
    {
     "name": "stdout",
     "output_type": "stream",
     "text": [
      "Inferred coordinate type is cartesian -- to override, use ds.yt.set_coordinate_type\n"
     ]
    }
   ],
   "source": [
    "import yt_xarray\n",
    "import yt\n",
    "\n",
    "yt_ds = ds.yt.ds()"
   ]
  },
  {
   "cell_type": "markdown",
   "id": "ccde9182-3221-4ade-a4e7-2b85bb1cdde6",
   "metadata": {},
   "source": [
    "note that this yt dataset actually maintains references to the open xarray dataset! Data will be loaded into yt only as needed. \n",
    "\n",
    "`ds.yt.ds()` is meant for when all of the variables in your dataset have the same dimensionality. In many cases, however, you will want to use either `load_grid_from_callable` or `load_uniform_grid`, which are described later on in this notebook.\n",
    "\n",
    "### A brief overview of yt datasets\n",
    "\n",
    "Now that we have a yt dataset, let's do a quick overview of a yt dataset:\n",
    "\n",
    "\n",
    "**Field Tuples**\n",
    "\n",
    "You can check the available fields in a yt dataset with:"
   ]
  },
  {
   "cell_type": "code",
   "execution_count": 3,
   "id": "0dcf56f3-434c-41a9-a94d-d26e96cfbf65",
   "metadata": {},
   "outputs": [
    {
     "data": {
      "text/plain": [
       "[('stream', 'pressure'), ('stream', 'temperature')]"
      ]
     },
     "execution_count": 3,
     "metadata": {},
     "output_type": "execute_result"
    }
   ],
   "source": [
    "yt_ds.field_list"
   ]
  },
  {
   "cell_type": "markdown",
   "id": "baf4848a-b204-4f7c-b942-c92b7312f892",
   "metadata": {},
   "source": [
    "fields in yt include both a field type and a field name. yt_xarray relies on yt's \"stream\" frontend infrastructure, so all of our xarray fields end up with a field type of \"stream\". This is important because when referring to fields, you'll need to supply both the field type and the field name. \n",
    "\n",
    "To construct a `SlicePlot`, for example:"
   ]
  },
  {
   "cell_type": "code",
   "execution_count": 4,
   "id": "f8bdd9b1-ad86-459e-ab7b-5baded948653",
   "metadata": {},
   "outputs": [
    {
     "name": "stderr",
     "output_type": "stream",
     "text": [
      "yt : [INFO     ] 2023-01-12 16:36:54,954 xlim = 0.000000 1.000000\n",
      "yt : [INFO     ] 2023-01-12 16:36:54,955 ylim = 0.000000 1.000000\n",
      "yt : [INFO     ] 2023-01-12 16:36:54,955 xlim = 0.000000 1.000000\n",
      "yt : [INFO     ] 2023-01-12 16:36:54,956 ylim = 0.000000 1.000000\n",
      "yt : [INFO     ] 2023-01-12 16:36:54,961 Making a fixed resolution buffer of (('stream', 'temperature')) 800 by 800\n"
     ]
    },
    {
     "data": {
      "text/html": [
       "<img style=\"max-width:100%;max-height:100%;\" src=\"data:image/png;base64,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\"><br>"
      ],
      "text/plain": [
       "<yt.visualization.plot_window.AxisAlignedSlicePlot at 0x7f561761bf70>"
      ]
     },
     "metadata": {},
     "output_type": "display_data"
    }
   ],
   "source": [
    "slc = yt.SlicePlot(yt_ds, \"z\", (\"stream\", \"temperature\"))\n",
    "slc.set_log((\"stream\", \"temperature\"), False)\n",
    "slc.show()"
   ]
  },
  {
   "cell_type": "markdown",
   "id": "0d007ae9-28d8-4673-8884-7e3745020bb3",
   "metadata": {},
   "source": [
    "**Domain extent and units**\n",
    "\n",
    "yt also has some useful attributes to quickly check the domain extents:"
   ]
  },
  {
   "cell_type": "code",
   "execution_count": 5,
   "id": "6585e4c2-5010-4483-bbd2-9582a549970d",
   "metadata": {},
   "outputs": [
    {
     "data": {
      "text/plain": [
       "unyt_array([0.5, 0.5, 0.5], 'code_length')"
      ]
     },
     "execution_count": 5,
     "metadata": {},
     "output_type": "execute_result"
    }
   ],
   "source": [
    "yt_ds.domain_center"
   ]
  },
  {
   "cell_type": "code",
   "execution_count": 6,
   "id": "2c6e209d-b953-4af8-9143-d80ad77a9983",
   "metadata": {},
   "outputs": [
    {
     "data": {
      "text/plain": [
       "unyt_array([1., 1., 1.], 'code_length')"
      ]
     },
     "execution_count": 6,
     "metadata": {},
     "output_type": "execute_result"
    }
   ],
   "source": [
    "yt_ds.domain_width"
   ]
  },
  {
   "cell_type": "markdown",
   "id": "0c8ac07d-d47f-4557-b771-55d35abf19cd",
   "metadata": {},
   "source": [
    "You'll notice that the output above are `unyt` arrays. The \"code_length\" refers to the representative length of your volume. You can view a unyt array with different unyts with:\n"
   ]
  },
  {
   "cell_type": "code",
   "execution_count": 7,
   "id": "abe0b1f8-968f-4f7d-b517-e8edc3e345c9",
   "metadata": {},
   "outputs": [
    {
     "data": {
      "text/plain": [
       "unyt_array([1., 1., 1.], 'm')"
      ]
     },
     "execution_count": 7,
     "metadata": {},
     "output_type": "execute_result"
    }
   ],
   "source": [
    "yt_ds.domain_width.to('m')"
   ]
  },
  {
   "cell_type": "markdown",
   "id": "42c9e68b-5093-444c-b123-9d8bcc14ee64",
   "metadata": {},
   "source": [
    "\n",
    "The above sample dataset sets an attribute, `geospatial_vertical_units`:"
   ]
  },
  {
   "cell_type": "code",
   "execution_count": 8,
   "id": "284b12f5-b595-40da-aff7-a079f28b8aa0",
   "metadata": {},
   "outputs": [
    {
     "data": {
      "text/plain": [
       "'m'"
      ]
     },
     "execution_count": 8,
     "metadata": {},
     "output_type": "execute_result"
    }
   ],
   "source": [
    "ds.geospatial_vertical_units"
   ]
  },
  {
   "cell_type": "markdown",
   "id": "f99f4103-d17d-4765-be60-6a694d393f09",
   "metadata": {},
   "source": [
    "which yt_xarray sets as the dataset `length_unit`:"
   ]
  },
  {
   "cell_type": "code",
   "execution_count": 9,
   "id": "abeab962-3051-477e-ac80-fb87df87e5de",
   "metadata": {},
   "outputs": [
    {
     "data": {
      "text/plain": [
       "unyt_quantity(1., 'm')"
      ]
     },
     "execution_count": 9,
     "metadata": {},
     "output_type": "execute_result"
    }
   ],
   "source": [
    "yt_ds.length_unit"
   ]
  },
  {
   "cell_type": "markdown",
   "id": "6f3677b7-1532-4397-b540-bbbde5e4f750",
   "metadata": {},
   "source": [
    "without this attribute, you can set it explicitly so that yt will know the dimensions of your input coordinates:"
   ]
  },
  {
   "cell_type": "code",
   "execution_count": 10,
   "id": "27e472e6-2c01-4dcc-b7ba-75566cd4749d",
   "metadata": {},
   "outputs": [
    {
     "name": "stderr",
     "output_type": "stream",
     "text": [
      "yt : [INFO     ] 2023-01-12 16:36:55,603 Parameters: current_time              = 0.0\n",
      "yt : [INFO     ] 2023-01-12 16:36:55,604 Parameters: domain_dimensions         = [15 10 15]\n",
      "yt : [INFO     ] 2023-01-12 16:36:55,605 Parameters: domain_left_edge          = [0. 0. 0.]\n",
      "yt : [INFO     ] 2023-01-12 16:36:55,606 Parameters: domain_right_edge         = [1. 1. 1.]\n",
      "yt : [INFO     ] 2023-01-12 16:36:55,606 Parameters: cosmological_simulation   = 0\n"
     ]
    }
   ],
   "source": [
    "yt_ds = ds.yt.load_grid_from_callable(length_unit='km')"
   ]
  },
  {
   "cell_type": "code",
   "execution_count": 11,
   "id": "6207284e-1a85-4ac9-8209-0d2d094956d2",
   "metadata": {},
   "outputs": [
    {
     "data": {
      "text/plain": [
       "unyt_array([1000., 1000., 1000.], 'm')"
      ]
     },
     "execution_count": 11,
     "metadata": {},
     "output_type": "execute_result"
    }
   ],
   "source": [
    "yt_ds.domain_width.to('m')"
   ]
  },
  {
   "cell_type": "markdown",
   "id": "341ce0e1-4aa6-475b-834b-ee6ad96b9e4e",
   "metadata": {},
   "source": [
    "for more on units, unyt and yt, you can read more [here](https://yt-project.org/doc/analyzing/units.html). \n",
    "\n"
   ]
  },
  {
   "cell_type": "markdown",
   "id": "64143714-9589-42d6-afb2-fa4def4f937f",
   "metadata": {},
   "source": [
    "### Loading a subset of fields\n",
    "\n",
    "When you call `ds.yt.ds()`, it attempts to grab references to all of the available fields. If you only want to work with a subset of fields, you can use either `ds.yt.load_grid_from_callable` or `ds.yt.load_uniform_grid`. The two functions have the same arguments but differ in how they manage memory (described in more detail later in this notebooks). We'll use `load_grid_from_callable` here and simply supply the fields we want:"
   ]
  },
  {
   "cell_type": "code",
   "execution_count": 12,
   "id": "2fdaf1b5-0248-4cc9-870f-6a5ed8b24bd4",
   "metadata": {},
   "outputs": [
    {
     "name": "stderr",
     "output_type": "stream",
     "text": [
      "yt : [INFO     ] 2023-01-12 16:36:55,663 Parameters: current_time              = 0.0\n",
      "yt : [INFO     ] 2023-01-12 16:36:55,664 Parameters: domain_dimensions         = [15 10 15]\n",
      "yt : [INFO     ] 2023-01-12 16:36:55,664 Parameters: domain_left_edge          = [0. 0. 0.]\n",
      "yt : [INFO     ] 2023-01-12 16:36:55,665 Parameters: domain_right_edge         = [1. 1. 1.]\n",
      "yt : [INFO     ] 2023-01-12 16:36:55,666 Parameters: cosmological_simulation   = 0\n"
     ]
    }
   ],
   "source": [
    "yt_ds = ds.yt.load_grid_from_callable(fields=('temperature',))"
   ]
  },
  {
   "cell_type": "markdown",
   "id": "9c981496-9c50-4bee-9a2c-e1fc4b0088c6",
   "metadata": {},
   "source": [
    "One of the limitations to `yt_xarray`at present is that the fields loaded into yt must have the same dimensions. \n",
    "\n",
    "If for example, we had a dataset with a mix of 2d and 3d and 4d (space + time) variables:\n"
   ]
  },
  {
   "cell_type": "code",
   "execution_count": 13,
   "id": "58628610-e6e6-428a-a49e-7a43ddc98bbe",
   "metadata": {},
   "outputs": [],
   "source": [
    "fields = {'temperature': ('x', 'y', 'z'), \n",
    "          'pressure': ('x', 'y', 'z'), \n",
    "          'precip': ('x', 'y', 'time'), \n",
    "          'cumulative_precip': ('x', 'y')}\n",
    "dims = {'x': (0,1,14), 'y': (0, 1, 10), 'z': (0, 1, 15), 'time': (0, 1, 11)}\n",
    "ds = load_random_xr_data(fields, dims, length_unit='m')"
   ]
  },
  {
   "cell_type": "markdown",
   "id": "c49a8f17-c79c-422d-bf63-d9eb5fbb5bc7",
   "metadata": {},
   "source": [
    "and simply try to load the full dataset with \n",
    "\n",
    "```\n",
    "ds.yt.ds()\n",
    "```\n",
    "then we will get an error due to the mismatching dimensions of the variables. In this case, we can load both the temperature and pressure fields with:"
   ]
  },
  {
   "cell_type": "code",
   "execution_count": 14,
   "id": "c65a0110-816b-4e78-b6af-7c427639e7c7",
   "metadata": {},
   "outputs": [
    {
     "name": "stderr",
     "output_type": "stream",
     "text": [
      "yt : [INFO     ] 2023-01-12 16:36:55,728 Parameters: current_time              = 0.0\n",
      "yt : [INFO     ] 2023-01-12 16:36:55,730 Parameters: domain_dimensions         = [14 10 15]\n",
      "yt : [INFO     ] 2023-01-12 16:36:55,732 Parameters: domain_left_edge          = [0. 0. 0.]\n",
      "yt : [INFO     ] 2023-01-12 16:36:55,733 Parameters: domain_right_edge         = [1. 1. 1.]\n",
      "yt : [INFO     ] 2023-01-12 16:36:55,735 Parameters: cosmological_simulation   = 0\n"
     ]
    },
    {
     "name": "stdout",
     "output_type": "stream",
     "text": [
      "Inferred coordinate type is cartesian -- to override, use ds.yt.set_coordinate_type\n"
     ]
    }
   ],
   "source": [
    "yt_ds = ds.yt.load_grid_from_callable(fields=('temperature', 'pressure'))"
   ]
  },
  {
   "cell_type": "markdown",
   "id": "b0f0c000-c6b5-4d5b-90e1-a99741218f46",
   "metadata": {},
   "source": [
    "Furthermore, when loading variables with a time dimension, you should select the time index to load:"
   ]
  },
  {
   "cell_type": "code",
   "execution_count": 15,
   "id": "320cb3f4-eed1-4a25-b14a-dbbaf12b9096",
   "metadata": {},
   "outputs": [
    {
     "name": "stderr",
     "output_type": "stream",
     "text": [
      "yt : [INFO     ] 2023-01-12 16:36:55,783 Parameters: current_time              = 0.1\n",
      "yt : [INFO     ] 2023-01-12 16:36:55,785 Parameters: domain_dimensions         = [14 10  1]\n",
      "yt : [INFO     ] 2023-01-12 16:36:55,787 Parameters: domain_left_edge          = [0. 0. 0.]\n",
      "yt : [INFO     ] 2023-01-12 16:36:55,788 Parameters: domain_right_edge         = [1. 1. 1.]\n",
      "yt : [INFO     ] 2023-01-12 16:36:55,789 Parameters: cosmological_simulation   = 0\n"
     ]
    }
   ],
   "source": [
    "yt_ds = ds.yt.load_grid_from_callable(fields=('precip',), sel_dict={'time':1})"
   ]
  },
  {
   "cell_type": "code",
   "execution_count": 16,
   "id": "a96806a9-b9df-4466-97df-b87f7554e3f3",
   "metadata": {},
   "outputs": [
    {
     "name": "stderr",
     "output_type": "stream",
     "text": [
      "yt : [INFO     ] 2023-01-12 16:36:55,889 min value is 1.76694e-02 at 0.8928571428571428 0.2500000000000000 0.0000000000000000\n"
     ]
    }
   ],
   "source": [
    "value, location = yt_ds.find_min(('stream', 'precip'))"
   ]
  },
  {
   "cell_type": "markdown",
   "id": "7e410e6b-73c1-4512-a3d5-3e9c7cadd555",
   "metadata": {},
   "source": [
    "### Loading method and memory usage\n",
    "\n",
    "When you use `ds.yt.load_grid_from_callable`, yt_xarray will use references to the open xarray dataset handle internally within yt to avoid copying data. If your dataset fits into memory without a problem, then you can instead use `ds.yt.load_uniform_grid`: "
   ]
  },
  {
   "cell_type": "code",
   "execution_count": 17,
   "id": "e7b9892b-20d4-4af2-9322-d59f7413b2bc",
   "metadata": {},
   "outputs": [
    {
     "name": "stderr",
     "output_type": "stream",
     "text": [
      "yt : [INFO     ] 2023-01-12 16:36:55,933 Parameters: current_time              = 0.0\n",
      "yt : [INFO     ] 2023-01-12 16:36:55,934 Parameters: domain_dimensions         = [14 10 15]\n",
      "yt : [INFO     ] 2023-01-12 16:36:55,934 Parameters: domain_left_edge          = [0. 0. 0.]\n",
      "yt : [INFO     ] 2023-01-12 16:36:55,935 Parameters: domain_right_edge         = [1. 1. 1.]\n",
      "yt : [INFO     ] 2023-01-12 16:36:55,935 Parameters: cosmological_simulation   = 0\n"
     ]
    }
   ],
   "source": [
    "yt_ds = ds.yt.load_uniform_grid(fields=('temperature',))"
   ]
  },
  {
   "cell_type": "markdown",
   "id": "77d32668-466a-4203-a2e0-4cea364e6c4e",
   "metadata": {},
   "source": [
    "and data will be copied from the xarray dataset during creation of the yt dataset."
   ]
  },
  {
   "cell_type": "code",
   "execution_count": null,
   "id": "d876c775-2d74-4124-8ab9-8ea540a54343",
   "metadata": {},
   "outputs": [],
   "source": []
  }
 ],
 "metadata": {
  "kernelspec": {
   "display_name": "Python 3 (ipykernel)",
   "language": "python",
   "name": "python3"
  },
  "language_info": {
   "codemirror_mode": {
    "name": "ipython",
    "version": 3
   },
   "file_extension": ".py",
   "mimetype": "text/x-python",
   "name": "python",
   "nbconvert_exporter": "python",
   "pygments_lexer": "ipython3",
   "version": "3.9.1"
  }
 },
 "nbformat": 4,
 "nbformat_minor": 5
}
