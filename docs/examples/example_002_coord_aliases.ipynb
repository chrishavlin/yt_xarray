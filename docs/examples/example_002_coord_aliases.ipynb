{
 "cells": [
  {
   "cell_type": "markdown",
   "id": "a4dc683b-ce0e-446b-8430-8c13755c91ae",
   "metadata": {},
   "source": [
    "## Coordinate aliasing\n",
    "\n",
    "When loading volumetric data into yt from xarray, there are a number of situations that may need some extra handling. \n",
    "\n",
    "1. The first situation is when the data contain a time dimensions (as is common in many cf-compliant netcdfs). In this case, we'll need to select the time to load into yt. \n",
    "2. It is also possible that the coordinates for a variable may not be recognized by yt, in which case we need to tell yt how to interpret those coordinates. \n",
    "\n",
    "\n",
    "We'll demonstrate this once again using random data:"
   ]
  },
  {
   "cell_type": "code",
   "execution_count": 1,
   "id": "a4f7d36d-f30b-463a-a3d5-a247d9fb733c",
   "metadata": {},
   "outputs": [],
   "source": [
    "import xarray as xr\n",
    "import yt_xarray\n",
    "import yt\n",
    "from yt_xarray.sample_data import load_random_xr_data\n",
    "\n",
    "fields = {'temp': ('h1', 'b2', 'c1'), \n",
    "          'precip': ('h1', 'b2'),\n",
    "          'precip_t': ('h1', 'b2', 'time')}\n",
    "dims = {'h1': (0,1,15), 'b2': (0, 1, 10), 'c1': (0, 1, 15), 'time': (0, 1, 5)}\n",
    "ds = load_random_xr_data(fields, dims, length_unit='m')"
   ]
  },
  {
   "cell_type": "markdown",
   "id": "f22286a2-9088-4864-9189-ab18f2ab0d85",
   "metadata": {},
   "source": [
    "because these coordinates do not match up with those used by yt, simply trying\n",
    "\n",
    "```python\n",
    "yt_ds = ds.yt.load_uniform_grid(fields=['temp'])\n",
    "```\n",
    "\n",
    "will result in the following error:\n",
    "\n",
    "```\n",
    "ValueError: h1 is not a known coordinate. To load in yt, you must supply an alias via the yt_xarray.known_coord_aliases dictionary.\n",
    "```\n",
    "This is telling us that to load data into yt, we need to explain how to map our dimension names to those expected by yt. \n",
    "\n",
    "If our dataset is cartesian, we can do so by adding some mappings to the `yt_xarray.known_coord_aliases` dictionary. The keys here are your native dataset names, while the values are the expected yt name:"
   ]
  },
  {
   "cell_type": "code",
   "execution_count": 2,
   "id": "87c38846-3243-4990-bfda-fa680260e8f1",
   "metadata": {},
   "outputs": [],
   "source": [
    "yt_xarray.known_coord_aliases['h1'] = 'y'\n",
    "yt_xarray.known_coord_aliases['b2'] = 'x'\n",
    "yt_xarray.known_coord_aliases['c1'] = 'z'"
   ]
  },
  {
   "cell_type": "markdown",
   "id": "11b417b5-8371-433f-aeee-dc8f3550cb7c",
   "metadata": {},
   "source": [
    "now we can load up the data:"
   ]
  },
  {
   "cell_type": "code",
   "execution_count": 3,
   "id": "c1b1d82c-78ca-40bd-9fbe-69feef221c44",
   "metadata": {},
   "outputs": [
    {
     "name": "stderr",
     "output_type": "stream",
     "text": [
      "yt_xarray : [INFO ] 2023-01-20 15:52:20,034:  Inferred geometry type is cartesian. To override, use ds.yt.set_geometry\n",
      "yt : [INFO     ] 2023-01-20 15:52:20,095 Parameters: current_time              = 0.0\n",
      "yt : [INFO     ] 2023-01-20 15:52:20,096 Parameters: domain_dimensions         = [15 10 15]\n",
      "yt : [INFO     ] 2023-01-20 15:52:20,097 Parameters: domain_left_edge          = [0. 0. 0.]\n",
      "yt : [INFO     ] 2023-01-20 15:52:20,097 Parameters: domain_right_edge         = [1. 1. 1.]\n",
      "yt : [INFO     ] 2023-01-20 15:52:20,098 Parameters: cosmological_simulation   = 0\n"
     ]
    }
   ],
   "source": [
    "yt_ds = ds.yt.load_grid(fields=['temp'])"
   ]
  },
  {
   "cell_type": "markdown",
   "id": "0d71c6f9-aceb-4da6-bd51-460855fea954",
   "metadata": {},
   "source": [
    "Note that from here, you'll have to use the yt name within yt commands:"
   ]
  },
  {
   "cell_type": "code",
   "execution_count": 4,
   "id": "ef0ee925-ce8d-4064-b796-59791ebf7584",
   "metadata": {},
   "outputs": [
    {
     "name": "stderr",
     "output_type": "stream",
     "text": [
      "yt : [INFO     ] 2023-01-20 15:52:20,216 xlim = 0.000000 1.000000\n",
      "yt : [INFO     ] 2023-01-20 15:52:20,217 ylim = 0.000000 1.000000\n",
      "yt : [INFO     ] 2023-01-20 15:52:20,217 xlim = 0.000000 1.000000\n",
      "yt : [INFO     ] 2023-01-20 15:52:20,218 ylim = 0.000000 1.000000\n",
      "yt : [INFO     ] 2023-01-20 15:52:20,223 Making a fixed resolution buffer of (('stream', 'temp')) 800 by 800\n"
     ]
    },
    {
     "data": {
      "text/html": [
       "<img style=\"max-width:100%;max-height:100%;\" src=\"data:image/png;base64,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\"><br>"
      ],
      "text/plain": [
       "<yt.visualization.plot_window.AxisAlignedSlicePlot at 0x7f957d7d77f0>"
      ]
     },
     "execution_count": 4,
     "metadata": {},
     "output_type": "execute_result"
    }
   ],
   "source": [
    "slc = yt.SlicePlot(yt_ds, 'z', ('stream', 'temp'))\n",
    "slc.set_log(('stream', 'temp'), False)"
   ]
  },
  {
   "cell_type": "code",
   "execution_count": null,
   "id": "247aabc2-3797-495b-a6ee-411c0467162d",
   "metadata": {},
   "outputs": [],
   "source": []
  }
 ],
 "metadata": {
  "kernelspec": {
   "display_name": "Python 3 (ipykernel)",
   "language": "python",
   "name": "python3"
  },
  "language_info": {
   "codemirror_mode": {
    "name": "ipython",
    "version": 3
   },
   "file_extension": ".py",
   "mimetype": "text/x-python",
   "name": "python",
   "nbconvert_exporter": "python",
   "pygments_lexer": "ipython3",
   "version": "3.9.1"
  }
 },
 "nbformat": 4,
 "nbformat_minor": 5
}
