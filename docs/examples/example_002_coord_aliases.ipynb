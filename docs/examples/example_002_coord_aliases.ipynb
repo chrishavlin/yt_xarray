{
 "cells": [
  {
   "cell_type": "markdown",
   "id": "a4dc683b-ce0e-446b-8430-8c13755c91ae",
   "metadata": {},
   "source": [
    "## Coordinate aliasing\n",
    "\n",
    "When loading volumetric data into yt from xarray, there are a number of situations that may need some extra handling. \n",
    "\n",
    "1. The first situation is when the data contain a time dimensions (as is common in many cf-compliant netcdfs). In this case, we'll need to select the time to load into yt. \n",
    "2. It is also possible that the coordinates for a variable may not be recognized by yt, in which case we need to tell yt how to interpret those coordinates. \n",
    "\n",
    "\n",
    "We'll demonstrate this once again using random data:"
   ]
  },
  {
   "cell_type": "code",
   "execution_count": 2,
   "id": "a4f7d36d-f30b-463a-a3d5-a247d9fb733c",
   "metadata": {},
   "outputs": [],
   "source": [
    "import xarray as xr\n",
    "import yt_xarray\n",
    "import yt\n",
    "from yt_xarray.sample_data import load_random_xr_data\n",
    "\n",
    "fields = {'temp': ('h1', 'b2', 'c1'), \n",
    "          'precip': ('h1', 'b2'),\n",
    "          'precip_t': ('h1', 'b2', 'time')}\n",
    "dims = {'h1': (0,1,15), 'b2': (0, 1, 10), 'c1': (0, 1, 15), 'time': (0, 1, 5)}\n",
    "ds = load_random_xr_data(fields, dims, length_unit='m')"
   ]
  },
  {
   "cell_type": "markdown",
   "id": "f22286a2-9088-4864-9189-ab18f2ab0d85",
   "metadata": {},
   "source": [
    "because these coordinates do not match up with those used by yt, simply trying\n",
    "\n",
    "```python\n",
    "yt_ds = ds.yt.load_uniform_grid(fields=['temp'])\n",
    "```\n",
    "\n",
    "will result in the following error:\n",
    "\n",
    "```\n",
    "ValueError: h1 is not a known coordinate. To load in yt, you must supply an alias via the yt_xarray.known_coord_aliases dictionary.\n",
    "```\n",
    "This is telling us that to load data into yt, we need to explain how to map our dimension names to those expected by yt. \n",
    "\n",
    "If our dataset is cartesian, we can do so by adding some mappings to the `yt_xarray.known_coord_aliases` dictionary. The keys here are your native dataset names, while the values are the expected yt name:"
   ]
  },
  {
   "cell_type": "code",
   "execution_count": 5,
   "id": "87c38846-3243-4990-bfda-fa680260e8f1",
   "metadata": {},
   "outputs": [],
   "source": [
    "yt_xarray.known_coord_aliases['h1'] = 'y'\n",
    "yt_xarray.known_coord_aliases['b2'] = 'x'\n",
    "yt_xarray.known_coord_aliases['c1'] = 'z'"
   ]
  },
  {
   "cell_type": "markdown",
   "id": "11b417b5-8371-433f-aeee-dc8f3550cb7c",
   "metadata": {},
   "source": [
    "now we can load up the data:"
   ]
  },
  {
   "cell_type": "code",
   "execution_count": 6,
   "id": "c1b1d82c-78ca-40bd-9fbe-69feef221c44",
   "metadata": {},
   "outputs": [
    {
     "name": "stderr",
     "output_type": "stream",
     "text": [
      "yt : [INFO     ] 2023-01-12 17:03:16,487 Parameters: current_time              = 0.0\n",
      "yt : [INFO     ] 2023-01-12 17:03:16,488 Parameters: domain_dimensions         = [15 10 15]\n",
      "yt : [INFO     ] 2023-01-12 17:03:16,489 Parameters: domain_left_edge          = [0. 0. 0.]\n",
      "yt : [INFO     ] 2023-01-12 17:03:16,490 Parameters: domain_right_edge         = [1. 1. 1.]\n",
      "yt : [INFO     ] 2023-01-12 17:03:16,491 Parameters: cosmological_simulation   = 0\n"
     ]
    },
    {
     "name": "stdout",
     "output_type": "stream",
     "text": [
      "Inferred coordinate type is cartesian -- to override, use ds.yt.set_coordinate_type\n"
     ]
    }
   ],
   "source": [
    "yt_ds = ds.yt.load_uniform_grid(fields=['temp'])"
   ]
  },
  {
   "cell_type": "markdown",
   "id": "0d71c6f9-aceb-4da6-bd51-460855fea954",
   "metadata": {},
   "source": [
    "Note that from here, you'll have to use the yt name within yt commands:"
   ]
  },
  {
   "cell_type": "code",
   "execution_count": 8,
   "id": "ef0ee925-ce8d-4064-b796-59791ebf7584",
   "metadata": {},
   "outputs": [
    {
     "name": "stderr",
     "output_type": "stream",
     "text": [
      "yt : [INFO     ] 2023-01-12 17:04:39,986 xlim = 0.000000 1.000000\n",
      "yt : [INFO     ] 2023-01-12 17:04:39,986 ylim = 0.000000 1.000000\n",
      "yt : [INFO     ] 2023-01-12 17:04:39,988 xlim = 0.000000 1.000000\n",
      "yt : [INFO     ] 2023-01-12 17:04:39,988 ylim = 0.000000 1.000000\n",
      "yt : [INFO     ] 2023-01-12 17:04:39,991 Making a fixed resolution buffer of (('stream', 'temp')) 800 by 800\n"
     ]
    },
    {
     "data": {
      "text/html": [
       "<img style=\"max-width:100%;max-height:100%;\" src=\"data:image/png;base64,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\"><br>"
      ],
      "text/plain": [
       "<yt.visualization.plot_window.AxisAlignedSlicePlot at 0x7f899f9f0190>"
      ]
     },
     "execution_count": 8,
     "metadata": {},
     "output_type": "execute_result"
    }
   ],
   "source": [
    "slc = yt.SlicePlot(yt_ds, 'z', ('stream', 'temp'))\n",
    "slc.set_log(('stream', 'temp'), False)"
   ]
  }
 ],
 "metadata": {
  "kernelspec": {
   "display_name": "Python 3 (ipykernel)",
   "language": "python",
   "name": "python3"
  },
  "language_info": {
   "codemirror_mode": {
    "name": "ipython",
    "version": 3
   },
   "file_extension": ".py",
   "mimetype": "text/x-python",
   "name": "python",
   "nbconvert_exporter": "python",
   "pygments_lexer": "ipython3",
   "version": "3.9.1"
  }
 },
 "nbformat": 4,
 "nbformat_minor": 5
}
