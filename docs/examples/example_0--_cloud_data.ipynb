{
 "cells": [
  {
   "cell_type": "markdown",
   "id": "fd8dca41-4ee1-4786-b81c-50b6b56747e4",
   "metadata": {},
   "source": [
    "# leveraging cloud access\n",
    "\n",
    "## extra resources\n",
    "* https://nasa-openscapes.github.io/slides/Earthdata_Cloud__Open-Science-Tutorial.html#/title-slide\n",
    "* https://harmony.earthdata.nasa.gov/\n",
    "* https://github.com/NASA-Openscapes/2021-Cloud-Workshop-AGU/blob/main/how-tos/Earthdata_Cloud__Single_File__HTTPS_Access_COG_Example.ipynb\n",
    "* https://nasa-openscapes.github.io/earthdata-cloud-cookbook/tutorials/earthaccess-demo.html#cloud-access-part-ii-streaming-data\n",
    "* https://pangeo-data.github.io/pangeo-cmip6-cloud/overview.html\n",
    "* https://medium.com/analytics-vidhya/set-up-jupyter-notebook-on-aws-ec2-instance-1a87d1707467\n",
    "\n",
    "\n",
    "\n",
    "## requirements"
   ]
  },
  {
   "cell_type": "code",
   "execution_count": null,
   "id": "518d87a2-35b0-4acd-a8c0-a62ea2dfd249",
   "metadata": {},
   "outputs": [],
   "source": []
  }
 ],
 "metadata": {
  "kernelspec": {
   "display_name": "Python 3 (ipykernel)",
   "language": "python",
   "name": "python3"
  },
  "language_info": {
   "codemirror_mode": {
    "name": "ipython",
    "version": 3
   },
   "file_extension": ".py",
   "mimetype": "text/x-python",
   "name": "python",
   "nbconvert_exporter": "python",
   "pygments_lexer": "ipython3",
   "version": "3.10.11"
  }
 },
 "nbformat": 4,
 "nbformat_minor": 5
}
