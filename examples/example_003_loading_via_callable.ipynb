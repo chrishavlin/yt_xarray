{
 "cells": [
  {
   "cell_type": "markdown",
   "id": "5521d306-e0c6-4f30-b3b4-99a78a3a3f99",
   "metadata": {},
   "source": [
    "## Differences in load methods.\n",
    "\n",
    "The two methods `load_uniform_grid` and `load_grid_from_callable` are identical with the exception of how the data are actually loaded. When you call `load_uniform_grid`, "
   ]
  },
  {
   "cell_type": "code",
   "execution_count": 4,
   "id": "89a2ec09-fa35-4246-baa1-c87a7f399700",
   "metadata": {},
   "outputs": [
    {
     "name": "stderr",
     "output_type": "stream",
     "text": [
      "yt : [INFO     ] 2022-10-17 14:44:27,659 Parameters: current_time              = 0.0\n",
      "yt : [INFO     ] 2022-10-17 14:44:27,660 Parameters: domain_dimensions         = [ 19  93 122]\n",
      "yt : [INFO     ] 2022-10-17 14:44:27,661 Parameters: domain_left_edge          = [  60.     27.5  -125.75]\n",
      "yt : [INFO     ] 2022-10-17 14:44:27,662 Parameters: domain_right_edge         = [885.   50.5 -95.5]\n",
      "yt : [INFO     ] 2022-10-17 14:44:27,662 Parameters: cosmological_simulation   = 0\n"
     ]
    },
    {
     "name": "stdout",
     "output_type": "stream",
     "text": [
      "Inferred coordinate type is geodetic -- to override, use ds.yt.set_coordinate_type\n",
      "('internal_geographic', ['depth', 'latitude', 'longitude'])\n"
     ]
    }
   ],
   "source": [
    "import xarray as xr\n",
    "import yt_xarray\n",
    "import yt\n",
    "from cartopy.feature import NaturalEarthFeature\n",
    "ds = yt_xarray.open_dataset(\"IRIS/wUS-SH-2010_percent.nc\")\n",
    "yt_ds = ds.yt.load_uniform_grid()"
   ]
  },
  {
   "cell_type": "markdown",
   "id": "21b2a188-83bd-4e47-9430-452d86239904",
   "metadata": {},
   "source": [
    "yt_xarray will create a fully in-memory dataset with copies of the selected fields. \n",
    "\n",
    "`load_grid_from_callable` uses yt's stream-callable functionality (new in yt 4.1.0) to instead map directly to the xarray fields so that data is only accessed as yt needs it:"
   ]
  },
  {
   "cell_type": "code",
   "execution_count": 5,
   "id": "c74f9ff1-2d24-4bec-b113-dccec2d878eb",
   "metadata": {},
   "outputs": [
    {
     "name": "stderr",
     "output_type": "stream",
     "text": [
      "yt : [INFO     ] 2022-10-17 14:45:38,428 Parameters: current_time              = 0.0\n",
      "yt : [INFO     ] 2022-10-17 14:45:38,429 Parameters: domain_dimensions         = [ 19  93 122]\n",
      "yt : [INFO     ] 2022-10-17 14:45:38,430 Parameters: domain_left_edge          = [  60.     27.5  -125.75]\n",
      "yt : [INFO     ] 2022-10-17 14:45:38,431 Parameters: domain_right_edge         = [885.   50.5 -95.5]\n",
      "yt : [INFO     ] 2022-10-17 14:45:38,431 Parameters: cosmological_simulation   = 0\n"
     ]
    },
    {
     "name": "stdout",
     "output_type": "stream",
     "text": [
      "('internal_geographic', ['depth', 'latitude', 'longitude'])\n"
     ]
    }
   ],
   "source": [
    "yt_ds = ds.yt.load_grid_from_callable()"
   ]
  },
  {
   "cell_type": "code",
   "execution_count": null,
   "id": "6d9342e2-4dd4-4de5-a96e-eea858b63a1e",
   "metadata": {},
   "outputs": [],
   "source": []
  }
 ],
 "metadata": {
  "kernelspec": {
   "display_name": "Python 3 (ipykernel)",
   "language": "python",
   "name": "python3"
  },
  "language_info": {
   "codemirror_mode": {
    "name": "ipython",
    "version": 3
   },
   "file_extension": ".py",
   "mimetype": "text/x-python",
   "name": "python",
   "nbconvert_exporter": "python",
   "pygments_lexer": "ipython3",
   "version": "3.10.0"
  }
 },
 "nbformat": 4,
 "nbformat_minor": 5
}
